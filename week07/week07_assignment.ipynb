{
 "cells": [
  {
   "cell_type": "markdown",
   "metadata": {},
   "source": [
    "# Week 7 Assignment\n",
    "\n",
    "This week has been all about getting information off the internet both in structured data formats (CSV, JSON, etc) as well as HTML.  Answer the questions below as instructed."
   ]
  },
  {
   "cell_type": "markdown",
   "metadata": {},
   "source": [
    "### 31.1 Finding files on the internet\n",
    "\n",
    "Go to healthdata.gov and find a file that looks interesting to you.  Provide the metadata below that describes the file you located.\n",
    "\n",
    "The cell below is a \"markdown\" cell.  Just double-click it to edit the contents and then Shift-Enter to show the content as formatted text.\n",
    "\n",
    "---"
   ]
  },
  {
   "cell_type": "markdown",
   "metadata": {},
   "source": [
    "**File Name:**  Influenza Laboratory-Confirmed Cases By County: Beginning 2009-10 Season\n",
    "\n",
    "**URL to Page:** https://healthdata.gov/dataset/influenza-laboratory-confirmed-cases-county-beginning-2009-10-season\n",
    "\n",
    "**Description:** This contains final weekely counts of laboratory-confirmed flu cases, by county and flu type in the 2009-2010 season, this is interesting because the flu is a common disease and I work in the lab. \n",
    "\n",
    "**URL to Actual File:** https://health.data.ny.gov/api/views/jr8b-6gh6/rows.csv?accessType=DOWNLOAD\n",
    "\n",
    "**File Format:** CSV\n",
    "\n"
   ]
  },
  {
   "cell_type": "markdown",
   "metadata": {},
   "source": [
    "---"
   ]
  },
  {
   "cell_type": "markdown",
   "metadata": {},
   "source": [
    "### 31.2 Use Pandas to load data from internet\n",
    "\n",
    "Now write a block of code (doesn't need to be in a function) that will load the file using Pandas and describe the shape of the file contents.  I've provided a cell with some comments in it to help get you started.\n",
    "\n",
    "Pandas documentation for loading data https://pandas.pydata.org/pandas-docs/version/0.23.4/api.html#input-output\n",
    "\n",
    "Pandas documentation for describing the shape of data https://pandas.pydata.org/pandas-docs/version/0.23.4/generated/pandas.DataFrame.shape.html"
   ]
  },
  {
   "cell_type": "code",
   "execution_count": 4,
   "metadata": {},
   "outputs": [
    {
     "data": {
      "text/plain": [
       "(63030, 9)"
      ]
     },
     "execution_count": 4,
     "metadata": {},
     "output_type": "execute_result"
    }
   ],
   "source": [
    "import pandas as pd\n",
    "\n",
    "# Load data using one of the read functions depending on your data file type\n",
    "# data = pd.read_ ...\n",
    "# Print out the row / column count\n",
    "# data. ...\n",
    "\n",
    "flu_df = pd.read_csv('https://health.data.ny.gov/api/views/jr8b-6gh6/rows.csv?accessType=DOWNLOAD')\n",
    "flu_df.shape"
   ]
  },
  {
   "cell_type": "markdown",
   "metadata": {},
   "source": [
    "---"
   ]
  },
  {
   "cell_type": "markdown",
   "metadata": {},
   "source": [
    "### 32.1 HTML Basics\n",
    "\n",
    "HTML is a form of which othere data format we've talked about:\n",
    "\n",
    "> A) Binary\n",
    ">\n",
    "> B) eXtensible Markup Language\n",
    "> \n",
    "> C) JavaScript Object Notation\n",
    ">\n",
    "> D) HL7 FHIR"
   ]
  },
  {
   "cell_type": "code",
   "execution_count": null,
   "metadata": {},
   "outputs": [],
   "source": [
    "answer321 = \"B\""
   ]
  },
  {
   "cell_type": "markdown",
   "metadata": {},
   "source": [
    "### 32.2 Things in HTML\n",
    "\n",
    "Which of the following is **not** a part of HTML:\n",
    "\n",
    "> A) element\n",
    "> \n",
    "> B) tag\n",
    ">\n",
    "> C) dictionary\n",
    ">\n",
    "> D) attribute"
   ]
  },
  {
   "cell_type": "code",
   "execution_count": null,
   "metadata": {},
   "outputs": [],
   "source": [
    "answer322 = \"C\""
   ]
  },
  {
   "cell_type": "markdown",
   "metadata": {},
   "source": [
    "### 32.3 Parsing HTML in Python\n",
    "\n",
    "Which of the following packages can be used to extract a table of data from HTML using Python (include all that apply in a list):\n",
    "\n",
    "> A) lxml\n",
    "> \n",
    "> B) BeautifulSoup\n",
    ">\n",
    "> C) Pandas \n",
    ">\n",
    "> D) fuzzywuzzy"
   ]
  },
  {
   "cell_type": "code",
   "execution_count": null,
   "metadata": {},
   "outputs": [],
   "source": [
    "answer323 = [\"A\",\"B\",\"C\"]"
   ]
  }
 ],
 "metadata": {
  "kernelspec": {
   "display_name": "Python 3",
   "language": "python",
   "name": "python3"
  },
  "language_info": {
   "codemirror_mode": {
    "name": "ipython",
    "version": 3
   },
   "file_extension": ".py",
   "mimetype": "text/x-python",
   "name": "python",
   "nbconvert_exporter": "python",
   "pygments_lexer": "ipython3",
   "version": "3.6.7"
  }
 },
 "nbformat": 4,
 "nbformat_minor": 4
}
