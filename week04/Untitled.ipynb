{
 "cells": [
  {
   "cell_type": "code",
   "execution_count": 1,
   "metadata": {},
   "outputs": [
    {
     "name": "stdout",
     "output_type": "stream",
     "text": [
      "First\n"
     ]
    }
   ],
   "source": [
    "(a, b) = ('First', 'Second')\n",
    "(b, a) = (a, b)\n",
    "print(b)"
   ]
  },
  {
   "cell_type": "code",
   "execution_count": 2,
   "metadata": {},
   "outputs": [
    {
     "data": {
      "text/plain": [
       "8"
      ]
     },
     "execution_count": 2,
     "metadata": {},
     "output_type": "execute_result"
    }
   ],
   "source": [
    "(a, b) = (['Paul','Alex','Linda','Kathy','Amit','Samira'], [41, 38, 30, 43, 41, 40, 34, 52])\n",
    "len(b)"
   ]
  },
  {
   "cell_type": "code",
   "execution_count": 3,
   "metadata": {},
   "outputs": [
    {
     "data": {
      "text/plain": [
       "2"
      ]
     },
     "execution_count": 3,
     "metadata": {},
     "output_type": "execute_result"
    }
   ],
   "source": [
    "dxs = [['COPD','CHF','MI'],['DVT','DBS'],['GI','CNC']]\n",
    "len(dxs[1])"
   ]
  },
  {
   "cell_type": "code",
   "execution_count": 4,
   "metadata": {},
   "outputs": [],
   "source": [
    "vals = [3.14, 1.41]\n",
    "vals.append([2.72])\n",
    "vals = vals + ['i']"
   ]
  },
  {
   "cell_type": "code",
   "execution_count": 21,
   "metadata": {},
   "outputs": [
    {
     "name": "stdout",
     "output_type": "stream",
     "text": [
      "<function list_to_dict at 0x7f96d06399d8>\n"
     ]
    }
   ],
   "source": [
    "def list_to_dict():\n",
    "\n",
    "    names = [['Boal', 'Paul'],\n",
    "             ['Duck', 'Donald'],\n",
    "             ['Duck', 'Daisy'],\n",
    "             ['Boal', 'Ada'],\n",
    "             ['Boal', 'Teddy'],\n",
    "             ['Westhus', 'Eric']]\n",
    "print(list_to_dict)"
   ]
  },
  {
   "cell_type": "code",
   "execution_count": 22,
   "metadata": {},
   "outputs": [
    {
     "data": {
      "text/plain": [
       "<function __main__.list_to_dict()>"
      ]
     },
     "execution_count": 22,
     "metadata": {},
     "output_type": "execute_result"
    }
   ],
   "source": [
    "list_to_dict"
   ]
  },
  {
   "cell_type": "code",
   "execution_count": 23,
   "metadata": {},
   "outputs": [],
   "source": [
    "\n",
    "    for name in names:\n",
    "        last_name = name[0]\n",
    "        first_name = name[1]\n",
    "        print(\"{} {}\".format(last_name, first_name))"
   ]
  },
  {
   "cell_type": "code",
   "execution_count": 52,
   "metadata": {},
   "outputs": [],
   "source": [
    "def list_to_dict():\n",
    "    names = [['Boal', 'Paul'],\n",
    "             ['Duck', 'Donald'],\n",
    "             ['Duck', 'Daisy'],\n",
    "             ['Boal', 'Ada'],\n",
    "             ['Boal', 'Teddy'],\n",
    "             ['Westhus', 'Eric']]\n",
    "    families = {}\n",
    "\n",
    "    for name in names:\n",
    "        surname = name[0]\n",
    "        firstname = name[1]\n",
    "        print(\"{} {}\".format(firstname, surname))\n",
    "    \n",
    "    families[list_to_dict] = [\"firstname\", \"Surname\"]"
   ]
  },
  {
   "cell_type": "code",
   "execution_count": 53,
   "metadata": {},
   "outputs": [
    {
     "ename": "NameError",
     "evalue": "name 'families' is not defined",
     "output_type": "error",
     "traceback": [
      "\u001b[0;31m---------------------------------------------------------------------------\u001b[0m",
      "\u001b[0;31mNameError\u001b[0m                                 Traceback (most recent call last)",
      "\u001b[0;32m<ipython-input-53-79694f72f375>\u001b[0m in \u001b[0;36m<module>\u001b[0;34m\u001b[0m\n\u001b[0;32m----> 1\u001b[0;31m \u001b[0;32mif\u001b[0m \u001b[0mfamilies\u001b[0m\u001b[0;34m.\u001b[0m\u001b[0mget\u001b[0m\u001b[0;34m(\u001b[0m\u001b[0mlist_to_dict\u001b[0m\u001b[0;34m)\u001b[0m \u001b[0;34m==\u001b[0m \u001b[0;32mNone\u001b[0m\u001b[0;34m:\u001b[0m\u001b[0;34m\u001b[0m\u001b[0;34m\u001b[0m\u001b[0m\n\u001b[0m\u001b[1;32m      2\u001b[0m     \u001b[0mprint\u001b[0m\u001b[0;34m(\u001b[0m\u001b[0;34m\"Dictionary doesn't have key in it\"\u001b[0m\u001b[0;34m)\u001b[0m\u001b[0;34m\u001b[0m\u001b[0;34m\u001b[0m\u001b[0m\n\u001b[1;32m      3\u001b[0m \u001b[0;32melse\u001b[0m\u001b[0;34m:\u001b[0m\u001b[0;34m\u001b[0m\u001b[0;34m\u001b[0m\u001b[0m\n\u001b[1;32m      4\u001b[0m     \u001b[0mprint\u001b[0m\u001b[0;34m(\u001b[0m\u001b[0;34m\"Dictionary does have key in it\"\u001b[0m\u001b[0;34m)\u001b[0m\u001b[0;34m\u001b[0m\u001b[0;34m\u001b[0m\u001b[0m\n",
      "\u001b[0;31mNameError\u001b[0m: name 'families' is not defined"
     ]
    }
   ],
   "source": [
    "    if families.get(list_to_dict) == None:\n",
    "        print(\"Dictionary doesn't have key in it\")\n",
    "    else:\n",
    "        print(\"Dictionary does have key in it\")"
   ]
  },
  {
   "cell_type": "code",
   "execution_count": 48,
   "metadata": {},
   "outputs": [],
   "source": [
    "patients = [\n",
    "    ['Boal', 'Medical examination/evaluation', 1.1],\n",
    "    ['Boal', 'Other complications of pregnancy', 3.3],\n",
    "    ['Jones', 'Liveborn', 3.2],\n",
    "    ['Ashbury', 'Forceps delivery', 2.0]\n",
    "]"
   ]
  },
  {
   "cell_type": "code",
   "execution_count": 49,
   "metadata": {},
   "outputs": [
    {
     "name": "stdout",
     "output_type": "stream",
     "text": [
      "[['Boal', 'Medical examination/evaluation', 1.1], ['Boal', 'Other complications of pregnancy', 3.3], ['Jones', 'Liveborn', 3.2], ['Ashbury', 'Forceps delivery', 2.0]]\n"
     ]
    }
   ],
   "source": [
    "print(patients)"
   ]
  },
  {
   "cell_type": "code",
   "execution_count": 42,
   "metadata": {},
   "outputs": [
    {
     "name": "stdout",
     "output_type": "stream",
     "text": [
      "2.2\n"
     ]
    }
   ],
   "source": [
    "avg_los = {\n",
    "    \"Hemolytic jaundice and perinatal jaundice\" : 2,\n",
    "    \"Medical examination/evaluation\" : 3.2,\n",
    "    \"Liveborn\" : 3.2,\n",
    "    \"Trauma to perineum and vulva\" : 2.1,\n",
    "    \"Normal pregnancy and/or delivery\" : 2,\n",
    "    \"Umbilical cord complication\" : 2.1,\n",
    "    \"Forceps delivery\" : 2.2,\n",
    "    \"Administrative/social admission\" : 4.2,\n",
    "    \"Prolonged pregnancy\" : 2.4,\n",
    "    \"Other complications of pregnancy\" : 2.5\n",
    "}\n",
    "\n",
    "print(avg_los[patients[1]])"
   ]
  },
  {
   "cell_type": "code",
   "execution_count": 41,
   "metadata": {},
   "outputs": [
    {
     "name": "stdout",
     "output_type": "stream",
     "text": [
      "1\n",
      "Medical examination/evaluation\n",
      "2\n",
      "Other complications of pregnancy\n",
      "3\n",
      "Liveborn\n",
      "4\n",
      "Forceps delivery\n"
     ]
    }
   ],
   "source": [
    "patients = [\n",
    "    ['Boal', 'Medical examination/evaluation', 1.1],\n",
    "    ['Boal', 'Other complications of pregnancy', 3.3],\n",
    "    ['Jones', 'Liveborn', 3.2],\n",
    "    ['Ashbury', 'Forceps delivery', 2.0]\n",
    "]\n",
    "\n",
    "i = 0\n",
    "for patients in patients:\n",
    "    i = i +1 \n",
    "    print(i)\n",
    "    print(patients[1])\n",
    "    \n"
   ]
  },
  {
   "cell_type": "code",
   "execution_count": null,
   "metadata": {},
   "outputs": [],
   "source": []
  }
 ],
 "metadata": {
  "kernelspec": {
   "display_name": "Python 3",
   "language": "python",
   "name": "python3"
  },
  "language_info": {
   "codemirror_mode": {
    "name": "ipython",
    "version": 3
   },
   "file_extension": ".py",
   "mimetype": "text/x-python",
   "name": "python",
   "nbconvert_exporter": "python",
   "pygments_lexer": "ipython3",
   "version": "3.6.7"
  }
 },
 "nbformat": 4,
 "nbformat_minor": 4
}
