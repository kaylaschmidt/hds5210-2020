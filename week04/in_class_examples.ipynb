{
 "cells": [
  {
   "cell_type": "code",
   "execution_count": 6,
   "metadata": {},
   "outputs": [],
   "source": [
    "a_list = ['a','b','c','d','e','f','g','h']"
   ]
  },
  {
   "cell_type": "code",
   "execution_count": 7,
   "metadata": {},
   "outputs": [
    {
     "data": {
      "text/plain": [
       "['a', 'b']"
      ]
     },
     "execution_count": 7,
     "metadata": {},
     "output_type": "execute_result"
    }
   ],
   "source": [
    "a_list[0:2]"
   ]
  },
  {
   "cell_type": "code",
   "execution_count": 8,
   "metadata": {},
   "outputs": [
    {
     "data": {
      "text/plain": [
       "['c', 'd']"
      ]
     },
     "execution_count": 8,
     "metadata": {},
     "output_type": "execute_result"
    }
   ],
   "source": [
    "a_list[2:4]"
   ]
  },
  {
   "cell_type": "code",
   "execution_count": 10,
   "metadata": {},
   "outputs": [
    {
     "data": {
      "text/plain": [
       "['d', 'e', 'f', 'g', 'h']"
      ]
     },
     "execution_count": 10,
     "metadata": {},
     "output_type": "execute_result"
    }
   ],
   "source": [
    "a_list[3:]"
   ]
  },
  {
   "cell_type": "code",
   "execution_count": 11,
   "metadata": {},
   "outputs": [
    {
     "data": {
      "text/plain": [
       "['a', 'b', 'c', 'd']"
      ]
     },
     "execution_count": 11,
     "metadata": {},
     "output_type": "execute_result"
    }
   ],
   "source": [
    "a_list[:4]"
   ]
  },
  {
   "cell_type": "code",
   "execution_count": 12,
   "metadata": {},
   "outputs": [
    {
     "data": {
      "text/plain": [
       "['a', 'b', 'c', 'd', 'e', 'f', 'g']"
      ]
     },
     "execution_count": 12,
     "metadata": {},
     "output_type": "execute_result"
    }
   ],
   "source": [
    "a_list[:-1]"
   ]
  },
  {
   "cell_type": "code",
   "execution_count": 13,
   "metadata": {},
   "outputs": [
    {
     "data": {
      "text/plain": [
       "['f', 'g', 'h']"
      ]
     },
     "execution_count": 13,
     "metadata": {},
     "output_type": "execute_result"
    }
   ],
   "source": [
    "a_list[-3:]"
   ]
  },
  {
   "cell_type": "code",
   "execution_count": 15,
   "metadata": {},
   "outputs": [],
   "source": [
    "# create a list of all the integers from 1 to 100\n",
    "b_list = []\n",
    "for i in range(1,101):\n",
    "    b_list.append(i)"
   ]
  },
  {
   "cell_type": "code",
   "execution_count": 16,
   "metadata": {},
   "outputs": [
    {
     "data": {
      "text/plain": [
       "[1,\n",
       " 2,\n",
       " 3,\n",
       " 4,\n",
       " 5,\n",
       " 6,\n",
       " 7,\n",
       " 8,\n",
       " 9,\n",
       " 10,\n",
       " 11,\n",
       " 12,\n",
       " 13,\n",
       " 14,\n",
       " 15,\n",
       " 16,\n",
       " 17,\n",
       " 18,\n",
       " 19,\n",
       " 20,\n",
       " 21,\n",
       " 22,\n",
       " 23,\n",
       " 24,\n",
       " 25,\n",
       " 26,\n",
       " 27,\n",
       " 28,\n",
       " 29,\n",
       " 30,\n",
       " 31,\n",
       " 32,\n",
       " 33,\n",
       " 34,\n",
       " 35,\n",
       " 36,\n",
       " 37,\n",
       " 38,\n",
       " 39,\n",
       " 40,\n",
       " 41,\n",
       " 42,\n",
       " 43,\n",
       " 44,\n",
       " 45,\n",
       " 46,\n",
       " 47,\n",
       " 48,\n",
       " 49,\n",
       " 50,\n",
       " 51,\n",
       " 52,\n",
       " 53,\n",
       " 54,\n",
       " 55,\n",
       " 56,\n",
       " 57,\n",
       " 58,\n",
       " 59,\n",
       " 60,\n",
       " 61,\n",
       " 62,\n",
       " 63,\n",
       " 64,\n",
       " 65,\n",
       " 66,\n",
       " 67,\n",
       " 68,\n",
       " 69,\n",
       " 70,\n",
       " 71,\n",
       " 72,\n",
       " 73,\n",
       " 74,\n",
       " 75,\n",
       " 76,\n",
       " 77,\n",
       " 78,\n",
       " 79,\n",
       " 80,\n",
       " 81,\n",
       " 82,\n",
       " 83,\n",
       " 84,\n",
       " 85,\n",
       " 86,\n",
       " 87,\n",
       " 88,\n",
       " 89,\n",
       " 90,\n",
       " 91,\n",
       " 92,\n",
       " 93,\n",
       " 94,\n",
       " 95,\n",
       " 96,\n",
       " 97,\n",
       " 98,\n",
       " 99,\n",
       " 100]"
      ]
     },
     "execution_count": 16,
     "metadata": {},
     "output_type": "execute_result"
    }
   ],
   "source": [
    "b_list"
   ]
  },
  {
   "cell_type": "code",
   "execution_count": 17,
   "metadata": {},
   "outputs": [
    {
     "data": {
      "text/plain": [
       "8"
      ]
     },
     "execution_count": 17,
     "metadata": {},
     "output_type": "execute_result"
    }
   ],
   "source": [
    "len(a_list)"
   ]
  },
  {
   "cell_type": "code",
   "execution_count": 26,
   "metadata": {},
   "outputs": [],
   "source": [
    "# what is a tuple\n",
    "\n",
    "a_tuple = (1, 'a')"
   ]
  },
  {
   "cell_type": "code",
   "execution_count": 19,
   "metadata": {},
   "outputs": [
    {
     "data": {
      "text/plain": [
       "tuple"
      ]
     },
     "execution_count": 19,
     "metadata": {},
     "output_type": "execute_result"
    }
   ],
   "source": [
    "type(a_tuple\n",
    "    )"
   ]
  },
  {
   "cell_type": "code",
   "execution_count": 20,
   "metadata": {},
   "outputs": [
    {
     "ename": "TypeError",
     "evalue": "'tuple' object does not support item assignment",
     "output_type": "error",
     "traceback": [
      "\u001b[0;31m---------------------------------------------------------------------------\u001b[0m",
      "\u001b[0;31mTypeError\u001b[0m                                 Traceback (most recent call last)",
      "\u001b[0;32m<ipython-input-20-d3d07cfb4a8a>\u001b[0m in \u001b[0;36m<module>\u001b[0;34m\u001b[0m\n\u001b[0;32m----> 1\u001b[0;31m \u001b[0ma_tuple\u001b[0m\u001b[0;34m[\u001b[0m\u001b[0;36m0\u001b[0m\u001b[0;34m]\u001b[0m \u001b[0;34m=\u001b[0m \u001b[0;36m2\u001b[0m\u001b[0;34m\u001b[0m\u001b[0;34m\u001b[0m\u001b[0m\n\u001b[0m",
      "\u001b[0;31mTypeError\u001b[0m: 'tuple' object does not support item assignment"
     ]
    }
   ],
   "source": [
    "a_tuple[0] = 2"
   ]
  },
  {
   "cell_type": "code",
   "execution_count": 21,
   "metadata": {},
   "outputs": [],
   "source": [
    "a_tuple = (1, 4, 'b', [1,2,3])"
   ]
  },
  {
   "cell_type": "code",
   "execution_count": 22,
   "metadata": {},
   "outputs": [],
   "source": [
    "#importing random numbers \n",
    "\n",
    "\n",
    "from random import randrange"
   ]
  },
  {
   "cell_type": "code",
   "execution_count": 68,
   "metadata": {},
   "outputs": [
    {
     "data": {
      "text/plain": [
       "99"
      ]
     },
     "execution_count": 68,
     "metadata": {},
     "output_type": "execute_result"
    }
   ],
   "source": [
    "c_list = []\n",
    "for i in range(500): \n",
    "    c_list.append(randrange(1,101))\n",
    "len(set(c_list))"
   ]
  },
  {
   "cell_type": "code",
   "execution_count": 3,
   "metadata": {},
   "outputs": [],
   "source": [
    "# examples of dictonaries \n",
    "\n",
    "families = {\n",
    "    \"Lester-Boal\": [\"Paul\", \"Sarahlynn\", \"Ellie\", \"Ada\", \"Teddy\"], \n",
    "    \"Duck\": [\"Donald\", \"Daisy\"], \n",
    "    \"Kardashian\": [\"Kim\", \"Chloe\", \"Courtney\", \"Rob\"]\n",
    "}"
   ]
  },
  {
   "cell_type": "code",
   "execution_count": 4,
   "metadata": {},
   "outputs": [
    {
     "name": "stdout",
     "output_type": "stream",
     "text": [
      "Lester-Boal\n",
      "Duck\n",
      "Kardashian\n"
     ]
    }
   ],
   "source": [
    "for family in families: \n",
    "    print(family)"
   ]
  },
  {
   "cell_type": "code",
   "execution_count": 7,
   "metadata": {},
   "outputs": [
    {
     "name": "stdout",
     "output_type": "stream",
     "text": [
      "Lester-Boal\n",
      "Duck\n",
      "Kardashian\n"
     ]
    }
   ],
   "source": [
    "for surname, family in families.items(): \n",
    "    print(surname)"
   ]
  },
  {
   "cell_type": "code",
   "execution_count": 8,
   "metadata": {},
   "outputs": [
    {
     "name": "stdout",
     "output_type": "stream",
     "text": [
      "Paul Lester-Boal\n",
      "Sarahlynn Lester-Boal\n",
      "Ellie Lester-Boal\n",
      "Ada Lester-Boal\n",
      "Teddy Lester-Boal\n",
      "Donald Duck\n",
      "Daisy Duck\n",
      "Kim Kardashian\n",
      "Chloe Kardashian\n",
      "Courtney Kardashian\n",
      "Rob Kardashian\n"
     ]
    }
   ],
   "source": [
    "for surname, family in families.items(): \n",
    "    for firstname in family: \n",
    "        print(\"{} {}\".format(firstname, surname))"
   ]
  },
  {
   "cell_type": "code",
   "execution_count": 12,
   "metadata": {},
   "outputs": [],
   "source": [
    "#examples with dictionaries \n",
    "\n",
    "subjects = {\n",
    "    \"A1\": { \"PatientID\": \"E143291\", \"Age\": 19 },\n",
    "    \"B2\": { \"PatientID\": \"E872839\", \"Age\": 32 },\n",
    "    \"C3\": { \"PatientID\": \"E878198\", \"Age\": 19 },\n",
    "    \"D4\": { \"PatientID\": \"E871111\", \"Age\": 21 },\n",
    "    \"E5\": { \"PatientID\": \"E143299\", \"Age\": 3  },\n",
    "    \"F6\": { \"PatientID\": \"E123332\", \"Age\": 21 },\n",
    "    \"H7\": { \"PatientID\": \"E989891\", \"Age\": 19 }\n",
    "}"
   ]
  },
  {
   "cell_type": "code",
   "execution_count": 16,
   "metadata": {},
   "outputs": [],
   "source": [
    "patients = {}\n",
    "for subject, info in subjects.items():\n",
    "    patientid = info[\"PatientID\"]\n",
    "    age = info[\"Age\"]\n",
    "    patients[patientid] = {\"SubjectID\": subject, \"Age\": age}\n",
    "    "
   ]
  },
  {
   "cell_type": "code",
   "execution_count": 17,
   "metadata": {},
   "outputs": [
    {
     "data": {
      "text/plain": [
       "{'E143291': {'SubjectID': 'A1', 'Age': 19},\n",
       " 'E872839': {'SubjectID': 'B2', 'Age': 32},\n",
       " 'E878198': {'SubjectID': 'C3', 'Age': 19},\n",
       " 'E871111': {'SubjectID': 'D4', 'Age': 21},\n",
       " 'E143299': {'SubjectID': 'E5', 'Age': 3},\n",
       " 'E123332': {'SubjectID': 'F6', 'Age': 21},\n",
       " 'E989891': {'SubjectID': 'H7', 'Age': 19}}"
      ]
     },
     "execution_count": 17,
     "metadata": {},
     "output_type": "execute_result"
    }
   ],
   "source": [
    "patients"
   ]
  },
  {
   "cell_type": "code",
   "execution_count": 18,
   "metadata": {},
   "outputs": [],
   "source": [
    "# exercise from slides \n",
    "families = {\n",
    "    \"Lester-Boal\": [\n",
    "        { \"First Name\": \"Paul\", \"Age\": 43 },\n",
    "        { \"First Name\": \"Ada\", \"Age\": 13 },\n",
    "        { \"First Name\": \"Ellie\", \"Age\": 16 }\n",
    "    ],\n",
    "    \"Duck\": [\n",
    "        { \"First Name\": \"Daisy\", \"Age\": 64 },\n",
    "        { \"First Name\": \"Donald\", \"Age\": 67 }\n",
    "    ]\n",
    "}"
   ]
  },
  {
   "cell_type": "code",
   "execution_count": 19,
   "metadata": {},
   "outputs": [
    {
     "data": {
      "text/plain": [
       "{'Lester-Boal': [{'First Name': 'Paul', 'Age': 43},\n",
       "  {'First Name': 'Ada', 'Age': 13},\n",
       "  {'First Name': 'Ellie', 'Age': 16}],\n",
       " 'Duck': [{'First Name': 'Daisy', 'Age': 64},\n",
       "  {'First Name': 'Donald', 'Age': 67}]}"
      ]
     },
     "execution_count": 19,
     "metadata": {},
     "output_type": "execute_result"
    }
   ],
   "source": [
    "families"
   ]
  },
  {
   "cell_type": "code",
   "execution_count": 27,
   "metadata": {},
   "outputs": [
    {
     "name": "stdout",
     "output_type": "stream",
     "text": [
      "****\n",
      "The average age of 3 Lester-Boals is 24.0\n",
      "****\n",
      "The average age of 2 Ducks is 65.5\n"
     ]
    }
   ],
   "source": [
    "for family, members in families.items():\n",
    "    print(\"****\")\n",
    "# print(members)\n",
    "    count = len(members)\n",
    "    total_age = 0 \n",
    "    for member in members: \n",
    "        total_age += member[\"Age\"]\n",
    "    print(\"The average age of {} {}s is {}\". format(count, family, total_age / count))"
   ]
  },
  {
   "cell_type": "code",
   "execution_count": 28,
   "metadata": {},
   "outputs": [],
   "source": [
    "# Using Comprehend\n",
    "\n",
    "names = [[\"Ada\", \"Boal\"], \n",
    "        [\"Paul\", \"Boal\"], \n",
    "        [\"Teddy\", \"Boal\"],\n",
    "         [\"Daisy\", \"Duck\"],\n",
    "         [\"Donald\", \"Duck\"], \n",
    "         [\"Eric\", \"Westhus\"]]"
   ]
  },
  {
   "cell_type": "code",
   "execution_count": 30,
   "metadata": {},
   "outputs": [],
   "source": [
    "names = [\"PAUL\", \"Ada\", \"ellie\", \"TEddy\", \"SarahLYnn\"]"
   ]
  },
  {
   "cell_type": "code",
   "execution_count": 31,
   "metadata": {},
   "outputs": [
    {
     "data": {
      "text/plain": [
       "['Paul', 'Ada', 'Ellie', 'Teddy', 'Sarahlynn']"
      ]
     },
     "execution_count": 31,
     "metadata": {},
     "output_type": "execute_result"
    }
   ],
   "source": [
    "[ name[0].upper() +name[1:].lower() for name in names ]"
   ]
  },
  {
   "cell_type": "code",
   "execution_count": 32,
   "metadata": {},
   "outputs": [
    {
     "data": {
      "text/plain": [
       "['Paul', 'Ada', 'Ellie', 'Teddy', 'Sarahlynn']"
      ]
     },
     "execution_count": 32,
     "metadata": {},
     "output_type": "execute_result"
    }
   ],
   "source": [
    "[ name.title() for name in names]"
   ]
  },
  {
   "cell_type": "code",
   "execution_count": null,
   "metadata": {},
   "outputs": [],
   "source": []
  }
 ],
 "metadata": {
  "kernelspec": {
   "display_name": "Python 3",
   "language": "python",
   "name": "python3"
  },
  "language_info": {
   "codemirror_mode": {
    "name": "ipython",
    "version": 3
   },
   "file_extension": ".py",
   "mimetype": "text/x-python",
   "name": "python",
   "nbconvert_exporter": "python",
   "pygments_lexer": "ipython3",
   "version": "3.6.7"
  }
 },
 "nbformat": 4,
 "nbformat_minor": 4
}
