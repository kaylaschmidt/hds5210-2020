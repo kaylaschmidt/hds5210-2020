{
 "cells": [
  {
   "cell_type": "code",
   "execution_count": 16,
   "metadata": {},
   "outputs": [],
   "source": [
    "def f_to_c(temp_f):\n",
    "    '''(float) -> float\n",
    "    This function converts temperature in Farenheit to Celsius using the formula temp_c = (temp_f - 32) * 5/9\n",
    "    \n",
    "    >>> f_to_c(212)\n",
    "    100\n",
    "    \n",
    "    >>> f_to_c(32)\n",
    "    0 \n",
    "    \n",
    "    >>> round(f_to_c(98.6),0)\n",
    "    37 \n",
    "    '''\n",
    "    \n",
    "    temp_c = (temp_f - 32) * 5/9\n",
    "    \n",
    "    return temp_c"
   ]
  },
  {
   "cell_type": "code",
   "execution_count": 17,
   "metadata": {},
   "outputs": [
    {
     "name": "stdout",
     "output_type": "stream",
     "text": [
      "Help on function f_to_c in module __main__:\n",
      "\n",
      "f_to_c(temp_f)\n",
      "    (float) -> float\n",
      "    This function converts temperature in Farenheit to Celsius using the formula temp_c = (temp_f - 32) * 5/9\n",
      "    \n",
      "    >>> f_to_c(212)\n",
      "    100\n",
      "    \n",
      "    >>> f_to_c(32)\n",
      "    0 \n",
      "    \n",
      "    >>> round(f_to_c(98.6),0)\n",
      "    37\n",
      "\n"
     ]
    }
   ],
   "source": [
    "help(f_to_c)"
   ]
  },
  {
   "cell_type": "code",
   "execution_count": 8,
   "metadata": {},
   "outputs": [],
   "source": [
    "import doctest"
   ]
  },
  {
   "cell_type": "code",
   "execution_count": 18,
   "metadata": {},
   "outputs": [
    {
     "name": "stdout",
     "output_type": "stream",
     "text": [
      "Finding tests in NoName\n",
      "Trying:\n",
      "    f_to_c(212)\n",
      "Expecting:\n",
      "    100\n",
      "**********************************************************************\n",
      "File \"__main__\", line 5, in NoName\n",
      "Failed example:\n",
      "    f_to_c(212)\n",
      "Expected:\n",
      "    100\n",
      "Got:\n",
      "    100.0\n",
      "Trying:\n",
      "    f_to_c(32)\n",
      "Expecting:\n",
      "    0 \n",
      "**********************************************************************\n",
      "File \"__main__\", line 8, in NoName\n",
      "Failed example:\n",
      "    f_to_c(32)\n",
      "Expected:\n",
      "    0 \n",
      "Got:\n",
      "    0.0\n",
      "Trying:\n",
      "    round(f_to_c(98.6),0)\n",
      "Expecting:\n",
      "    37 \n",
      "**********************************************************************\n",
      "File \"__main__\", line 11, in NoName\n",
      "Failed example:\n",
      "    round(f_to_c(98.6),0)\n",
      "Expected:\n",
      "    37 \n",
      "Got:\n",
      "    37.0\n"
     ]
    }
   ],
   "source": [
    "doctest.run_docstring_examples(f_to_c, globals(), verbose = True)"
   ]
  },
  {
   "cell_type": "code",
   "execution_count": 46,
   "metadata": {},
   "outputs": [],
   "source": [
    "# examples about abstraction \n",
    "\n",
    "from datetime import date\n",
    "\n",
    "my_encounters = [\n",
    "    { \"id\": \"E1234\", \"admit\": date(2019,1,3), \"diagnosis\": \"COPD\", \"discharge\": date(2019,1,8) },\n",
    "    { \"id\": \"E8342\", \"admit\": date(2019,1,5), \"diagnosis\": \"Hypertension\", \"discharge\": date(2019,1,9) },\n",
    "    { \"id\": \"E9231\", \"admit\": date(2019,1,12), \"diagnosis\": \"Anxiety\", \"discharge\": date(2019,1,13) },\n",
    "    { \"id\": \"E8333\", \"admit\": date(2019,1,15), \"diagnosis\": \"Observation\", \"discharge\": date(2019,1,16) },\n",
    "    { \"id\": \"E3342\", \"admit\": date(2019,1,4), \"diagnosis\": \"Anxiety\", \"discharge\": date(2019,1,4)}\n",
    "] \n"
   ]
  },
  {
   "cell_type": "code",
   "execution_count": 48,
   "metadata": {},
   "outputs": [],
   "source": [
    "def length_of_stay(admit, discharge, diagnosis =\"\"):\n",
    "    for encounter in my_encounters:\n",
    "        if diagnosis == \"observation\":\n",
    "            los = 0\n",
    "        else:\n",
    "            admit = encounter.get(\"admit\")\n",
    "            discharge = encounter.get(\"discharged\")\n",
    "            los = (discharge - admit).days \n",
    "            stays.append(los)\n",
    "    return los"
   ]
  },
  {
   "cell_type": "code",
   "execution_count": 47,
   "metadata": {},
   "outputs": [],
   "source": [
    "def length_of_stay(admit, discharge, diagnosis =\"\"):\n",
    "    '''\n",
    "    '''\n",
    "    if str(diagnosis).lower() == \"observation\":\n",
    "        los = 0 \n",
    "    else: \n",
    "        los = (discharge - admit).days\n",
    "    return los"
   ]
  },
  {
   "cell_type": "code",
   "execution_count": 51,
   "metadata": {},
   "outputs": [],
   "source": [
    "def avg_los(encounter):\n",
    "    '''(list) -> float \n",
    "    \n",
    "    This function will calcualate the average length of stay for all the encounters in the input list. \n",
    "    \n",
    "    The input is expected to be a list of dictionaies. Each dictionary will have at least the following keys: \n",
    "    \"admit\", \"discharge\"\n",
    "    \n",
    "    Length of stay is the difference between discharge date and admit date in days \n",
    "    \n",
    "    >>> avg_los([{\"admit\": date(2019,1,1), \"discharge\": date(2019,1,2)}])\n",
    "    1.0\n",
    "    \n",
    "    '''\n",
    "    stays = []\n",
    "    \n",
    "    for encounter in my_encounters:\n",
    "        admit = encounter.get(\"admit\")\n",
    "        discharge = encounter.get(\"discharge\")\n",
    "        diagnosis = encounter.get(\"diagnosis\")\n",
    "        los = length_of_stay(admit, discharge, diagnosis)\n",
    "        if los != 0:\n",
    "            stays.append(los)\n",
    "        \n",
    "    return sum(stays)/len(stays)"
   ]
  },
  {
   "cell_type": "code",
   "execution_count": 52,
   "metadata": {},
   "outputs": [
    {
     "ename": "TypeError",
     "evalue": "unsupported operand type(s) for -: 'NoneType' and 'datetime.date'",
     "output_type": "error",
     "traceback": [
      "\u001b[0;31m---------------------------------------------------------------------------\u001b[0m",
      "\u001b[0;31mTypeError\u001b[0m                                 Traceback (most recent call last)",
      "\u001b[0;32m<ipython-input-52-acece2ff8993>\u001b[0m in \u001b[0;36m<module>\u001b[0;34m\u001b[0m\n\u001b[0;32m----> 1\u001b[0;31m \u001b[0mavg_los\u001b[0m\u001b[0;34m(\u001b[0m\u001b[0;34m[\u001b[0m\u001b[0;34m{\u001b[0m\u001b[0;34m\"admit\"\u001b[0m\u001b[0;34m:\u001b[0m \u001b[0mdate\u001b[0m\u001b[0;34m(\u001b[0m\u001b[0;36m2019\u001b[0m\u001b[0;34m,\u001b[0m\u001b[0;36m1\u001b[0m\u001b[0;34m,\u001b[0m\u001b[0;36m1\u001b[0m\u001b[0;34m)\u001b[0m\u001b[0;34m,\u001b[0m \u001b[0;34m\"discharge\"\u001b[0m\u001b[0;34m:\u001b[0m \u001b[0mdate\u001b[0m\u001b[0;34m(\u001b[0m\u001b[0;36m2019\u001b[0m\u001b[0;34m,\u001b[0m\u001b[0;36m1\u001b[0m\u001b[0;34m,\u001b[0m\u001b[0;36m2\u001b[0m\u001b[0;34m)\u001b[0m\u001b[0;34m}\u001b[0m\u001b[0;34m]\u001b[0m\u001b[0;34m)\u001b[0m\u001b[0;34m\u001b[0m\u001b[0;34m\u001b[0m\u001b[0m\n\u001b[0m",
      "\u001b[0;32m<ipython-input-51-594c20b7bce5>\u001b[0m in \u001b[0;36mavg_los\u001b[0;34m(encounter)\u001b[0m\n\u001b[1;32m     18\u001b[0m         \u001b[0mdischarge\u001b[0m \u001b[0;34m=\u001b[0m \u001b[0mencounter\u001b[0m\u001b[0;34m.\u001b[0m\u001b[0mget\u001b[0m\u001b[0;34m(\u001b[0m\u001b[0;34m\"discharge\"\u001b[0m\u001b[0;34m)\u001b[0m\u001b[0;34m\u001b[0m\u001b[0;34m\u001b[0m\u001b[0m\n\u001b[1;32m     19\u001b[0m         \u001b[0mdiagnosis\u001b[0m \u001b[0;34m=\u001b[0m \u001b[0mencounter\u001b[0m\u001b[0;34m.\u001b[0m\u001b[0mget\u001b[0m\u001b[0;34m(\u001b[0m\u001b[0;34m\"diagnosis\"\u001b[0m\u001b[0;34m)\u001b[0m\u001b[0;34m\u001b[0m\u001b[0;34m\u001b[0m\u001b[0m\n\u001b[0;32m---> 20\u001b[0;31m         \u001b[0mlos\u001b[0m \u001b[0;34m=\u001b[0m \u001b[0mlength_of_stay\u001b[0m\u001b[0;34m(\u001b[0m\u001b[0madmit\u001b[0m\u001b[0;34m,\u001b[0m \u001b[0mdischarge\u001b[0m\u001b[0;34m,\u001b[0m \u001b[0mdiagnosis\u001b[0m\u001b[0;34m)\u001b[0m\u001b[0;34m\u001b[0m\u001b[0;34m\u001b[0m\u001b[0m\n\u001b[0m\u001b[1;32m     21\u001b[0m         \u001b[0;32mif\u001b[0m \u001b[0mlos\u001b[0m \u001b[0;34m!=\u001b[0m \u001b[0;36m0\u001b[0m\u001b[0;34m:\u001b[0m\u001b[0;34m\u001b[0m\u001b[0;34m\u001b[0m\u001b[0m\n\u001b[1;32m     22\u001b[0m             \u001b[0mstays\u001b[0m\u001b[0;34m.\u001b[0m\u001b[0mappend\u001b[0m\u001b[0;34m(\u001b[0m\u001b[0mlos\u001b[0m\u001b[0;34m)\u001b[0m\u001b[0;34m\u001b[0m\u001b[0;34m\u001b[0m\u001b[0m\n",
      "\u001b[0;32m<ipython-input-48-7afdeb7e8ee6>\u001b[0m in \u001b[0;36mlength_of_stay\u001b[0;34m(admit, discharge, diagnosis)\u001b[0m\n\u001b[1;32m      6\u001b[0m             \u001b[0madmit\u001b[0m \u001b[0;34m=\u001b[0m \u001b[0mencounter\u001b[0m\u001b[0;34m.\u001b[0m\u001b[0mget\u001b[0m\u001b[0;34m(\u001b[0m\u001b[0;34m\"admit\"\u001b[0m\u001b[0;34m)\u001b[0m\u001b[0;34m\u001b[0m\u001b[0;34m\u001b[0m\u001b[0m\n\u001b[1;32m      7\u001b[0m             \u001b[0mdischarge\u001b[0m \u001b[0;34m=\u001b[0m \u001b[0mencounter\u001b[0m\u001b[0;34m.\u001b[0m\u001b[0mget\u001b[0m\u001b[0;34m(\u001b[0m\u001b[0;34m\"discharged\"\u001b[0m\u001b[0;34m)\u001b[0m\u001b[0;34m\u001b[0m\u001b[0;34m\u001b[0m\u001b[0m\n\u001b[0;32m----> 8\u001b[0;31m             \u001b[0mlos\u001b[0m \u001b[0;34m=\u001b[0m \u001b[0;34m(\u001b[0m\u001b[0mdischarge\u001b[0m \u001b[0;34m-\u001b[0m \u001b[0madmit\u001b[0m\u001b[0;34m)\u001b[0m\u001b[0;34m.\u001b[0m\u001b[0mdays\u001b[0m\u001b[0;34m\u001b[0m\u001b[0;34m\u001b[0m\u001b[0m\n\u001b[0m\u001b[1;32m      9\u001b[0m             \u001b[0mstays\u001b[0m\u001b[0;34m.\u001b[0m\u001b[0mappend\u001b[0m\u001b[0;34m(\u001b[0m\u001b[0mlos\u001b[0m\u001b[0;34m)\u001b[0m\u001b[0;34m\u001b[0m\u001b[0;34m\u001b[0m\u001b[0m\n\u001b[1;32m     10\u001b[0m     \u001b[0;32mreturn\u001b[0m \u001b[0mlos\u001b[0m\u001b[0;34m\u001b[0m\u001b[0;34m\u001b[0m\u001b[0m\n",
      "\u001b[0;31mTypeError\u001b[0m: unsupported operand type(s) for -: 'NoneType' and 'datetime.date'"
     ]
    }
   ],
   "source": [
    "avg_los([{\"admit\": date(2019,1,1), \"discharge\": date(2019,1,2)}])"
   ]
  },
  {
   "cell_type": "code",
   "execution_count": null,
   "metadata": {},
   "outputs": [],
   "source": []
  }
 ],
 "metadata": {
  "kernelspec": {
   "display_name": "Python 3",
   "language": "python",
   "name": "python3"
  },
  "language_info": {
   "codemirror_mode": {
    "name": "ipython",
    "version": 3
   },
   "file_extension": ".py",
   "mimetype": "text/x-python",
   "name": "python",
   "nbconvert_exporter": "python",
   "pygments_lexer": "ipython3",
   "version": "3.6.7"
  }
 },
 "nbformat": 4,
 "nbformat_minor": 4
}
