{
 "cells": [
  {
   "cell_type": "markdown",
   "metadata": {},
   "source": [
    "# HDS5210-2020 Midterm\n",
    "\n",
    "In the midterm, you're going to focus on using the programming skills that you've developed so far to build a calculator for the Apache II scoring system for ICU Mortality.  \n",
    "* https://www.mdcalc.com/apache-ii-score#evidence\n",
    "* https://reference.medscape.com/calculator/apache-ii-scoring-system\n",
    "\n",
    "For the midterm, we'll be building a calculator for the Apache II score and then running that against a patient file that's available to you out on the internet.  This will be broken down into three main steps:\n",
    "1. Create your JSON file to encapsulate all of the calculation rules for Apache II\n",
    "2. Create functions to calculate the Apache II score using your JSON configuration\n",
    "3. Create a function to loop over the patients in a file on the internet and calculate Apach II scores for all of them\n",
    "\n"
   ]
  },
  {
   "cell_type": "markdown",
   "metadata": {},
   "source": [
    "---\n",
    "\n",
    "## Part 1: Creating a JSON Rules File\n",
    "\n",
    "Look at the rules for the Apache II scoring system on the pages above.  The first step in the midterm is to use those rules and create a JSON configuration file as described in the 2019 midterm video.  I've provided a starter file named `apache.json` to get you started.\n",
    "\n",
    "Inside that file, you'll find placeholders for all of the measures that go into the Apache II scoring model:\n",
    "* Organ Failure History\n",
    "* Age\n",
    "* Temperature\n",
    "* [pH](https://en.wikipedia.org/wiki/PH)\n",
    "* Heart rate\n",
    "* Respiratory rate\n",
    "* [Sodium](https://www.mayoclinic.org/diseases-conditions/hyponatremia/symptoms-causes/syc-20373711)\n",
    "* [Potassium](https://www.emedicinehealth.com/hyperkalemia/article_em.htm)\n",
    "* [Creatinine](https://www.medicalnewstoday.com/articles/322380)\n",
    "* [Hematocrit](https://labtestsonline.org/tests/hematocrit)\n",
    "* White Blood Count\n",
    "* [FiO2](https://www.ausmed.com/cpd/articles/oxygen-flow-rate-and-fio2)\n",
    "* [PaO2](https://www.verywellhealth.com/partial-pressure-of-oyxgen-pa02-914920)\n",
    "* [A-a gradient](https://www.ncbi.nlm.nih.gov/books/NBK545153/)\n",
    "\n",
    "\n",
    "You may need to create a sort of nested set of rules in some cases.  For instance, the rule for Creatinine says to use certain ranges and points in the case of Acute Renal Failure and a different set of points for Chronic Renal Failure.\n",
    "\n",
    "Similarly, the rule for FiO2 says to use PaO2 to calculate scores if the FiO2 is <50, and to use A-a Gradient if the PaO2 is >50.\n",
    "\n",
    "When you've created your `apache.json` file, make sure it's in the same directory as this notebook."
   ]
  },
  {
   "cell_type": "markdown",
   "metadata": {},
   "source": [
    "### Testing your JSON\n",
    "\n",
    "The assert() functions below should all run just fine.  If you want to change the names of any of the keys in the JSON I provided you, you may, but you'll also need to update this test code so that it doesn't fail.  Remember, your notebook should be able to run end-to-end before you submit it."
   ]
  },
  {
   "cell_type": "code",
   "execution_count": 562,
   "metadata": {},
   "outputs": [],
   "source": [
    "import json\n",
    "\n",
    "with open('apache.json') as f:\n",
    "    rules = json.load(f)\n",
    "\n",
    "assert('Organ Failure History' in rules.keys())\n",
    "assert('Age' in rules.keys())\n",
    "assert('Temperature' in rules.keys())\n",
    "assert('pH' in rules.keys())\n",
    "assert('Heart Rate' in rules.keys())\n",
    "assert('Respiratory Rate' in rules.keys())\n",
    "assert('Sodium' in rules.keys())\n",
    "assert('Potassium' in rules.keys())\n",
    "assert('Creatinine' in rules.keys())\n",
    "assert('Hematocrit' in rules.keys())\n",
    "assert('White Blood Count' in rules.keys())\n",
    "assert('FiO2' in rules.keys())"
   ]
  },
  {
   "cell_type": "markdown",
   "metadata": {},
   "source": [
    "---\n",
    "\n",
    "## Part 2: Functions to evaluate rules\n",
    "\n",
    "Write a series of functions, enough to satisfy all of the main criteria that we're using to calculate the Apache II score.  That list is the same as the assert statements above.\n",
    "\n",
    "* Each of your functions should be well documented.\n",
    "* Each function should have \"config_file\" as one of it's parameters.\n",
    "* Each function should return a numerical score value.\n",
    "* Similar to what we discussed in the review, if you can generalize some rules, do so.  You should **NOT** end up with one function for each input variable.  If you did that, you'd have a lot of repetative code.\n",
    "\n",
    "The Glasgow Coma Scale is simply a 1-to-1 score translation.  Simply add the Glasgow Coma Scale value.  So, you don't need to write a function for this. [Glasgow Coma Scale](https://www.cdc.gov/masstrauma/resources/gcs.pdf)\n",
    "\n",
    "**CORRECTION ADDED 2/29** - The Glasgow Coma Scale points should be calculated as `1 - Glasgow Coma Scale` rather than what I just stated above.  My preference would be that you do the calculation correctly, as per MDCalc, and then use the **corrected** scores files to compare against as noted in Part 4."
   ]
  },
  {
   "cell_type": "markdown",
   "metadata": {},
   "source": [
    "### Testing you Functions\n",
    "\n",
    "Write enough test cases to verify that your functions work for evaulating all of the scoring inputs.  Have at least 3 test cases for each input.\n",
    "\n",
    "These tests can be written the same as the assertions we've use in previous assignments.  For example, if you a function for `temperature_score` then you write a test case like:\n",
    "\n",
    "```\n",
    "assert( temperature_score(37) == 0 )\n",
    "```"
   ]
  },
  {
   "cell_type": "code",
   "execution_count": 563,
   "metadata": {},
   "outputs": [],
   "source": [
    "import json \n",
    "\n",
    "def organ_failure_score(history_list, config_file):\n",
    "    \"\"\" list, str -> int\n",
    "    history_list: A list of strings that includes if this subject has had a history of severe organ insufficiency \n",
    "    or immunocompromised\n",
    "    config_file: The name of a configuration file to use for scoring this history \n",
    "    \n",
    "    The function should return a score for this subject based on the history of the subject in the history_list\n",
    "    and the scoring rules in the config_file.  For instance, if the subject has had a history of severe organ insufficiency \n",
    "    and was nonoperative or emergency postoperative patient then the score would be 5 and the function should return 5 \n",
    "    \"\"\"\n",
    "       \n",
    "    score = 0\n",
    "    \n",
    "    ### BEGIN SOLUTION\n",
    "    \n",
    "    config = json.load(open(config_file))\n",
    "    organ_failure_scores = config.get(\"Organ Failure History\")\n",
    "    \n",
    "    for history in history_list:\n",
    "        if history in organ_failure_scores:\n",
    "            score += organ_failure_scores.get(history)\n",
    "    \n",
    "    ### END SOLUTION\n",
    "\n",
    "    return score"
   ]
  },
  {
   "cell_type": "code",
   "execution_count": 564,
   "metadata": {},
   "outputs": [],
   "source": [
    "CONFIG_FILE = \"apache.json\"\n",
    "\n",
    "assert(organ_failure_score([],CONFIG_FILE) == 0)\n",
    "assert(organ_failure_score(['Nonoperative'],CONFIG_FILE) == 5)\n",
    "assert(organ_failure_score(['Elective'],CONFIG_FILE) == 2)\n",
    "assert(organ_failure_score(['Emergency'],CONFIG_FILE) == 5)"
   ]
  },
  {
   "cell_type": "code",
   "execution_count": 565,
   "metadata": {},
   "outputs": [],
   "source": [
    "import json \n",
    "\n",
    "def mortality_score(value, config_file, variable_name):\n",
    "    \"\"\" int, str -> int\n",
    "    rules: measurement as an integer value for variables of Age, Temperature, pH, Heart Rate, \n",
    "    Respiratory Rate, Sodium level, Potassium level, Hematocrit level, and White blood cell count.  \n",
    "    config_file: The name of a configuration file to use for scoring the ICU mortality risk\n",
    "    \n",
    "    The function should return a score for this subject based on where their actual variables\n",
    "    fall in the scoring rules.\n",
    "    \"\"\"\n",
    "    score = 0\n",
    "    \n",
    " ### BEGIN SOLUTION\n",
    "    \n",
    "    config = json.load(open(config_file))\n",
    "    rules = config.get(variable_name)\n",
    "    \n",
    "    for rule in rules:\n",
    "        if value >= rule.get('min') and value < rule.get('max'):\n",
    "            score = rule.get('points')\n",
    "\n",
    " ### END SOLUTION\n",
    "    \n",
    "    return score\n"
   ]
  },
  {
   "cell_type": "code",
   "execution_count": 566,
   "metadata": {},
   "outputs": [],
   "source": [
    "CONFIG_FILE = \"apache.json\"\n",
    "\n",
    "assert(mortality_score(34, CONFIG_FILE, \"Age\") == 0)\n",
    "assert(mortality_score(88, CONFIG_FILE, \"Age\") == 6)\n",
    "assert(mortality_score(60, CONFIG_FILE, \"Age\") == 3)\n",
    "\n",
    "assert(mortality_score(40, CONFIG_FILE, \"Temperature\") == 3)\n",
    "assert(mortality_score(43, CONFIG_FILE, \"Temperature\") == 4)\n",
    "assert(mortality_score(32, CONFIG_FILE, \"Temperature\") == 2)\n",
    "assert(mortality_score(37, CONFIG_FILE, \"Temperature\") == 0)\n",
    "\n",
    "assert(mortality_score(7.2, CONFIG_FILE, \"pH\") == 3)\n",
    "assert(mortality_score(7.4, CONFIG_FILE, \"pH\") == 0)\n",
    "assert(mortality_score(7.7, CONFIG_FILE, \"pH\") == 4)\n",
    "assert(mortality_score(7.5, CONFIG_FILE, \"pH\") == 1)\n",
    "\n",
    "assert(mortality_score(20, CONFIG_FILE, \"Heart Rate\") == 4)\n",
    "assert(mortality_score(50, CONFIG_FILE, \"Heart Rate\") == 3)\n",
    "assert(mortality_score(120, CONFIG_FILE, \"Heart Rate\") == 2)\n",
    "assert(mortality_score(80, CONFIG_FILE, \"Heart Rate\") == 0)\n",
    "\n",
    "assert(mortality_score(2, CONFIG_FILE, \"Respiratory Rate\") == 4)\n",
    "assert(mortality_score(20, CONFIG_FILE, \"Respiratory Rate\") == 0)\n",
    "assert(mortality_score(40, CONFIG_FILE, \"Respiratory Rate\") == 3)\n",
    "\n",
    "assert(mortality_score(110, CONFIG_FILE, \"Sodium\") == 4)\n",
    "assert(mortality_score(150, CONFIG_FILE, \"Sodium\") == 1)\n",
    "assert(mortality_score(130, CONFIG_FILE, \"Sodium\") == 0)\n",
    "\n",
    "assert(mortality_score(3, CONFIG_FILE, \"Potassium\") == 1)\n",
    "assert(mortality_score(4, CONFIG_FILE, \"Potassium\") == 0)\n",
    "assert(mortality_score(7, CONFIG_FILE, \"Potassium\") == 4)\n",
    "\n",
    "assert(mortality_score(15, CONFIG_FILE, \"Hematocrit\") == 4)\n",
    "assert(mortality_score(45, CONFIG_FILE, \"Hematocrit\") == 0)\n",
    "assert(mortality_score(20, CONFIG_FILE, \"Hematocrit\") == 2)\n",
    "\n",
    "assert(mortality_score(15, CONFIG_FILE, \"White Blood Count\") == 1)\n",
    "assert(mortality_score(60, CONFIG_FILE, \"White Blood Count\") == 4)\n",
    "assert(mortality_score(0.4, CONFIG_FILE, \"White Blood Count\") == 4)\n",
    "assert(mortality_score(3, CONFIG_FILE, \"White Blood Count\") == 0)"
   ]
  },
  {
   "cell_type": "code",
   "execution_count": 567,
   "metadata": {},
   "outputs": [],
   "source": [
    "import json \n",
    "\n",
    "def creatinine_score(value, config_file, disease):\n",
    "    \"\"\" int -> float \n",
    "    creatinine_level: A list of strings that includes if a patient has acute renal disease, chronic renal disease, or no renal disease\n",
    "    and the creatinine levels possible for that patient. \n",
    "    config_file: The name of a configuration file to use for scoring the creatinine level\n",
    "    \n",
    "    The function should return a score based on the patients creatinine level and if the patient has a history of renal disease or not.\n",
    "    \"\"\"\n",
    "    score = 0\n",
    "    \n",
    " ### BEGIN SOLUTION\n",
    "    \n",
    "    config = json.load(open(config_file))\n",
    "    creatinine_rules = config.get(\"Creatinine\").get(disease)\n",
    "    \n",
    "    for rule in creatinine_rules: \n",
    "        if value >= rule.get('min') and value < rule.get('max'):\n",
    "            score = rule.get('points')  \n",
    "\n",
    " ### END SOLUTION \n",
    "    \n",
    "    return score\n",
    "    "
   ]
  },
  {
   "cell_type": "code",
   "execution_count": 568,
   "metadata": {},
   "outputs": [],
   "source": [
    "CONFIG_FILE = \"apache.json\"\n",
    "\n",
    "assert(creatinine_score(3, CONFIG_FILE, \"Chronic Renal Failure\") == 3)\n",
    "assert(creatinine_score(1.3, CONFIG_FILE, \"Chronic Renal Failure\") == 0)\n",
    "assert(creatinine_score(1.6, CONFIG_FILE, \"Chronic Renal Failure\") == 2)\n",
    "\n",
    "assert(creatinine_score(1.5, CONFIG_FILE, \"Acute Renal Failure\") == 4)\n",
    "assert(creatinine_score(4, CONFIG_FILE, \"Acute Renal Failure\") == 8)\n",
    "assert(creatinine_score(2.4, CONFIG_FILE, \"Acute Renal Failure\") == 6)\n",
    "assert(creatinine_score(0.7, CONFIG_FILE, \"Acute Renal Failure\") == 0)"
   ]
  },
  {
   "cell_type": "code",
   "execution_count": 607,
   "metadata": {},
   "outputs": [],
   "source": [
    "import json \n",
    "\n",
    "def oxgeniation_score(value, PaO2, Aa_gradient, config_file):\n",
    "    \n",
    "    score = 0\n",
    "    \n",
    " ### BEGIN SOLUTION\n",
    "    config = json.load(open(config_file))\n",
    "    \n",
    "    if value <50:\n",
    "        rules = config.get('FiO2')\n",
    "        rules = rules.get('Pa02')\n",
    "        for rule in rules:\n",
    "            if PaO2 >= rule.get('min') and PaO2 <= rule.get('max'):\n",
    "                score = rule.get('points')\n",
    "    else:\n",
    "        rules = config.get('FiO2')\n",
    "        rules = rules.get('Aa_Gradient')\n",
    "        for rule in rules:\n",
    "            if Aa_gradient > rule.get('min') and Aa_gradient < rule.get('max'):\n",
    "                score = rule.get('points')\n",
    "    \n",
    "    \n",
    " ### END SOLUTION\n",
    "    \n",
    "    return score"
   ]
  },
  {
   "cell_type": "code",
   "execution_count": 608,
   "metadata": {},
   "outputs": [],
   "source": [
    "CONFIG_FILE = \"apache.json\"\n",
    "assert(oxgeniation_score(70, 458, 59, config_file)== 0 )\n",
    "assert(oxgeniation_score(66, 66, 450, config_file)== 3 )\n",
    "assert(oxgeniation_score(33, 69, 490, config_file)== 1 )"
   ]
  },
  {
   "cell_type": "code",
   "execution_count": null,
   "metadata": {},
   "outputs": [],
   "source": []
  },
  {
   "cell_type": "markdown",
   "metadata": {},
   "source": [
    "---\n",
    "\n",
    "## Part 3: Put it all together\n",
    "\n",
    "Create a new function called `apache_score()` that takes all of the necessary inputs and returns the final Apache II score.  Use any variable names that you want.  For clarity and organization, my recommendation is to create them in the same order as they're documented in the website.\n",
    "\n",
    "1. Organ Failure History\n",
    "2. Age\n",
    "3. Temperature\n",
    "4. pH \n",
    "5. Heart rate\n",
    "6. Respiratory rate\n",
    "7. Sodium\n",
    "8. Potassium\n",
    "9. Creatinine\n",
    "10. Acute renal failure\n",
    "11. Hematocrit\n",
    "12. White Blood Count\n",
    "13. Glasgow Coma Scale\n",
    "14. FiO2\n",
    "15. PaO2\n",
    "16. A-a gradient\n"
   ]
  },
  {
   "cell_type": "markdown",
   "metadata": {},
   "source": [
    "### Testing your Function\n",
    "\n",
    "Write a few test cases to make sure that your code functions correctly.  In the last step, you'll have LOTS of test cases run through, but you should do some of your before moving on."
   ]
  },
  {
   "cell_type": "code",
   "execution_count": 613,
   "metadata": {},
   "outputs": [],
   "source": [
    "def glascow_score(glascow_scale):\n",
    "    glascowscore = 15 - glascow_scale \n",
    "    \n",
    "    return glascowscore"
   ]
  },
  {
   "cell_type": "code",
   "execution_count": 618,
   "metadata": {},
   "outputs": [],
   "source": [
    "import json \n",
    "\n",
    "def apache_score(history_list, age, temperature, pH, heart_rate, respiratory_rate, sodium, potassium, \n",
    "                 creatinine, acute_renal, hematocrit, white_blood_count, glasgow_coma_scale, FiO2, PaO2, Aa_gradient):\n",
    "    \"\"\" str, int, -> float\n",
    "    This function will take all necessary inputs and returns the final Apache II score. \n",
    "    \n",
    "    * Organ_failure_score is a list of strings like like \"nonoperative\" and \"elective\"\n",
    "    * mortality_score contains multiple variables like \"Age\", \"pH\", \"Heart Rate\", \"Respiratory Rate\",\n",
    "    \"Sodium\", \"Potassium\", \"Hematocrit\", and \"White Blood Count\" \n",
    "    * creatinine_score is a dictonary that contains acute renal failure and chronic renal failure\n",
    "    and the creatinine level assoicated with each disease\n",
    "    * oxgeniation_score is a dictonary that contains the oxgenation level and it will use PaO2 if FiO2 <50% otherwise\n",
    "    it will use the A-a gradient. \n",
    "    \"\"\"\n",
    "    \n",
    "    score = 0 \n",
    "    \n",
    " ### BEGIN SOLUTION \n",
    "\n",
    "    config_file = 'apache.json'\n",
    "    \n",
    "    score += organ_failure_score(history_list, config_file)\n",
    "    score += mortality_score(age, config_file, 'Age')\n",
    "    score += mortality_score(temperature, config_file, 'Temperature')\n",
    "    score += mortality_score(pH, config_file, 'pH')\n",
    "    score += mortality_score(heart_rate, config_file, 'Heart Rate')\n",
    "    score += mortality_score(respiratory_rate, config_file, 'Respiratory Rate')\n",
    "    score += mortality_score(sodium, config_file, 'Sodium')\n",
    "    score += mortality_score(potassium, config_file, 'Potassium')\n",
    "    score += creatinine_score(creatinine, config_file, 'Chronic Renal Failure')\n",
    "    score += creatinine_score(acute_renal, config_file, 'Acute Renal Failure')\n",
    "    score += mortality_score(hematocrit, config_file, 'Hematocrit')\n",
    "    score += mortality_score(white_blood_count, config_file, 'White Blood Count')\n",
    "    score += glascow_score(glasgow_coma_scale)\n",
    "    score += oxgeniation_score(FiO2, PaO2, Aa_gradient, config_file)\n",
    "    \n",
    " ### END SOLUTION\n",
    "\n",
    "    return score "
   ]
  },
  {
   "cell_type": "code",
   "execution_count": 619,
   "metadata": {},
   "outputs": [
    {
     "data": {
      "text/plain": [
       "4"
      ]
     },
     "execution_count": 619,
     "metadata": {},
     "output_type": "execute_result"
    }
   ],
   "source": [
    "apache_score(\"Elective\", 45, 32, 7.14, 70, 12, 145, 4.0, 1.4, 4.0, 34, 12, 30, 61, 250, 440)"
   ]
  },
  {
   "cell_type": "markdown",
   "metadata": {},
   "source": [
    "---\n",
    "\n",
    "## Part 4: Accessing and processing the patient file\n",
    "\n",
    "Fill out the simple function below to retrieve the patient data as a CSV file from any given URL and return a list of all of the Apache II scores based on the data you find for those patients.\n",
    "* The patient file will be a CSV\n",
    "* It will have column headers that match the labels shown above\n",
    "* The columns will not necessarily appear in the order shown above\n",
    "* You should output only the Apache II scores, not any other information\n",
    "* Your output should be a list in the same order as the input rows"
   ]
  },
  {
   "cell_type": "code",
   "execution_count": 633,
   "metadata": {},
   "outputs": [],
   "source": [
    "import pandas as pd\n",
    "\n",
    "test_patient = pd.read_csv('https://hds5210-2020.s3.amazonaws.com/TestPatients.csv')\n",
    "\n",
    " ### BEGIN SOLUTION \n",
    "def test_function(test_patient, config_file):\n",
    "    check = pd.read_csv(test_patient)\n",
    "    scores=[]\n",
    "    for x in check.index: \n",
    "        score=(apache_score(check['Organ Failure History'][x], \n",
    "              check['Age'][x],\n",
    "              check['Temperature'][x],\n",
    "              check['pH'][x],\n",
    "              check['Heart Rate'][x],\n",
    "              check['Respiratory Rate'][x],\n",
    "              check['Sodium'][x],\n",
    "              check['Potassium'][x],\n",
    "              check['Creatinine'][x],\n",
    "              check['Hematocrit'][x],\n",
    "              check['White Blood Count'][x],\n",
    "              check['Glasgow Coma Scale'][x],\n",
    "              check['FiO2'][x],              \n",
    "              check['PaO2'][x],\n",
    "              check['A-a Gradient'][x],\n",
    "              config_file))\n",
    "        \n",
    "        scores.append(score)\n",
    "  \n",
    " ### END SOLUTION \n",
    "    return scores"
   ]
  },
  {
   "cell_type": "code",
   "execution_count": 634,
   "metadata": {},
   "outputs": [
    {
     "ename": "TypeError",
     "evalue": "'>' not supported between instances of 'str' and 'int'",
     "output_type": "error",
     "traceback": [
      "\u001b[0;31m---------------------------------------------------------------------------\u001b[0m",
      "\u001b[0;31mTypeError\u001b[0m                                 Traceback (most recent call last)",
      "\u001b[0;32m<ipython-input-634-2663743fd316>\u001b[0m in \u001b[0;36m<module>\u001b[0;34m\u001b[0m\n\u001b[0;32m----> 1\u001b[0;31m \u001b[0mtest_function\u001b[0m\u001b[0;34m(\u001b[0m\u001b[0;34m'https://hds5210-2020.s3.amazonaws.com/TestPatients.csv'\u001b[0m\u001b[0;34m,\u001b[0m \u001b[0;34m'apache.json'\u001b[0m\u001b[0;34m)\u001b[0m\u001b[0;34m\u001b[0m\u001b[0;34m\u001b[0m\u001b[0m\n\u001b[0m",
      "\u001b[0;32m<ipython-input-633-898c87cccfa7>\u001b[0m in \u001b[0;36mtest_function\u001b[0;34m(test_patient, config_file)\u001b[0m\n\u001b[1;32m     23\u001b[0m               \u001b[0mcheck\u001b[0m\u001b[0;34m[\u001b[0m\u001b[0;34m'PaO2'\u001b[0m\u001b[0;34m]\u001b[0m\u001b[0;34m[\u001b[0m\u001b[0mx\u001b[0m\u001b[0;34m]\u001b[0m\u001b[0;34m,\u001b[0m\u001b[0;34m\u001b[0m\u001b[0;34m\u001b[0m\u001b[0m\n\u001b[1;32m     24\u001b[0m               \u001b[0mcheck\u001b[0m\u001b[0;34m[\u001b[0m\u001b[0;34m'A-a Gradient'\u001b[0m\u001b[0;34m]\u001b[0m\u001b[0;34m[\u001b[0m\u001b[0mx\u001b[0m\u001b[0;34m]\u001b[0m\u001b[0;34m,\u001b[0m\u001b[0;34m\u001b[0m\u001b[0;34m\u001b[0m\u001b[0m\n\u001b[0;32m---> 25\u001b[0;31m               config_file))\n\u001b[0m\u001b[1;32m     26\u001b[0m \u001b[0;34m\u001b[0m\u001b[0m\n\u001b[1;32m     27\u001b[0m         \u001b[0mscores\u001b[0m\u001b[0;34m.\u001b[0m\u001b[0mappend\u001b[0m\u001b[0;34m(\u001b[0m\u001b[0mscore\u001b[0m\u001b[0;34m)\u001b[0m\u001b[0;34m\u001b[0m\u001b[0;34m\u001b[0m\u001b[0m\n",
      "\u001b[0;32m<ipython-input-618-f6000ce6ea78>\u001b[0m in \u001b[0;36mapache_score\u001b[0;34m(history_list, age, temperature, pH, heart_rate, respiratory_rate, sodium, potassium, creatinine, acute_renal, hematocrit, white_blood_count, glasgow_coma_scale, FiO2, PaO2, Aa_gradient)\u001b[0m\n\u001b[1;32m     34\u001b[0m     \u001b[0mscore\u001b[0m \u001b[0;34m+=\u001b[0m \u001b[0mmortality_score\u001b[0m\u001b[0;34m(\u001b[0m\u001b[0mwhite_blood_count\u001b[0m\u001b[0;34m,\u001b[0m \u001b[0mconfig_file\u001b[0m\u001b[0;34m,\u001b[0m \u001b[0;34m'White Blood Count'\u001b[0m\u001b[0;34m)\u001b[0m\u001b[0;34m\u001b[0m\u001b[0;34m\u001b[0m\u001b[0m\n\u001b[1;32m     35\u001b[0m     \u001b[0mscore\u001b[0m \u001b[0;34m+=\u001b[0m \u001b[0mglascow_score\u001b[0m\u001b[0;34m(\u001b[0m\u001b[0mglasgow_coma_scale\u001b[0m\u001b[0;34m)\u001b[0m\u001b[0;34m\u001b[0m\u001b[0;34m\u001b[0m\u001b[0m\n\u001b[0;32m---> 36\u001b[0;31m     \u001b[0mscore\u001b[0m \u001b[0;34m+=\u001b[0m \u001b[0moxgeniation_score\u001b[0m\u001b[0;34m(\u001b[0m\u001b[0mFiO2\u001b[0m\u001b[0;34m,\u001b[0m \u001b[0mPaO2\u001b[0m\u001b[0;34m,\u001b[0m \u001b[0mAa_gradient\u001b[0m\u001b[0;34m,\u001b[0m \u001b[0mconfig_file\u001b[0m\u001b[0;34m)\u001b[0m\u001b[0;34m\u001b[0m\u001b[0;34m\u001b[0m\u001b[0m\n\u001b[0m\u001b[1;32m     37\u001b[0m \u001b[0;34m\u001b[0m\u001b[0m\n\u001b[1;32m     38\u001b[0m  \u001b[0;31m### END SOLUTION\u001b[0m\u001b[0;34m\u001b[0m\u001b[0;34m\u001b[0m\u001b[0;34m\u001b[0m\u001b[0m\n",
      "\u001b[0;32m<ipython-input-607-bf8cec7b6cb5>\u001b[0m in \u001b[0;36moxgeniation_score\u001b[0;34m(value, PaO2, Aa_gradient, config_file)\u001b[0m\n\u001b[1;32m     19\u001b[0m         \u001b[0mrules\u001b[0m \u001b[0;34m=\u001b[0m \u001b[0mrules\u001b[0m\u001b[0;34m.\u001b[0m\u001b[0mget\u001b[0m\u001b[0;34m(\u001b[0m\u001b[0;34m'Aa_Gradient'\u001b[0m\u001b[0;34m)\u001b[0m\u001b[0;34m\u001b[0m\u001b[0;34m\u001b[0m\u001b[0m\n\u001b[1;32m     20\u001b[0m         \u001b[0;32mfor\u001b[0m \u001b[0mrule\u001b[0m \u001b[0;32min\u001b[0m \u001b[0mrules\u001b[0m\u001b[0;34m:\u001b[0m\u001b[0;34m\u001b[0m\u001b[0;34m\u001b[0m\u001b[0m\n\u001b[0;32m---> 21\u001b[0;31m             \u001b[0;32mif\u001b[0m \u001b[0mAa_gradient\u001b[0m \u001b[0;34m>\u001b[0m \u001b[0mrule\u001b[0m\u001b[0;34m.\u001b[0m\u001b[0mget\u001b[0m\u001b[0;34m(\u001b[0m\u001b[0;34m'min'\u001b[0m\u001b[0;34m)\u001b[0m \u001b[0;32mand\u001b[0m \u001b[0mAa_gradient\u001b[0m \u001b[0;34m<\u001b[0m \u001b[0mrule\u001b[0m\u001b[0;34m.\u001b[0m\u001b[0mget\u001b[0m\u001b[0;34m(\u001b[0m\u001b[0;34m'max'\u001b[0m\u001b[0;34m)\u001b[0m\u001b[0;34m:\u001b[0m\u001b[0;34m\u001b[0m\u001b[0;34m\u001b[0m\u001b[0m\n\u001b[0m\u001b[1;32m     22\u001b[0m                 \u001b[0mscore\u001b[0m \u001b[0;34m=\u001b[0m \u001b[0mrule\u001b[0m\u001b[0;34m.\u001b[0m\u001b[0mget\u001b[0m\u001b[0;34m(\u001b[0m\u001b[0;34m'points'\u001b[0m\u001b[0;34m)\u001b[0m\u001b[0;34m\u001b[0m\u001b[0;34m\u001b[0m\u001b[0m\n\u001b[1;32m     23\u001b[0m \u001b[0;34m\u001b[0m\u001b[0m\n",
      "\u001b[0;31mTypeError\u001b[0m: '>' not supported between instances of 'str' and 'int'"
     ]
    }
   ],
   "source": [
    "test_function('https://hds5210-2020.s3.amazonaws.com/TestPatients.csv', 'apache.json')"
   ]
  },
  {
   "cell_type": "markdown",
   "metadata": {},
   "source": [
    "### Testing your Function\n",
    "\n",
    "The URL for the test data is: https://hds5210-2020.s3.amazonaws.com/TestPatients.csv\n",
    "\n",
    "\n",
    "You can verify your results by comparing them against this data: https://hds5210-2020.s3.amazonaws.com/Scores.csv\n",
    "\n",
    "**CORRECTION ADDED 3/29** - If you calculated the Glasgow Coma Scale points as per the actual instructions in MDCalc, then please use this set of corrected scores to compare your results with: https://hds5210-2020.s3.amazonaws.com/Scores_corrected.csv\n"
   ]
  },
  {
   "cell_type": "code",
   "execution_count": 603,
   "metadata": {},
   "outputs": [],
   "source": [
    "test_patient_2 = pd.read_csv(\"https://hds5210-2020.s3.amazonaws.com/Scores_corrected.csv\")\n",
    "\n",
    "scores_2 = []\n",
    "for index, row in test_patient_2.iterrows():\n",
    "    scores_2.append(int(row[\"TOTAL\"]))"
   ]
  },
  {
   "cell_type": "code",
   "execution_count": 604,
   "metadata": {},
   "outputs": [
    {
     "data": {
      "text/plain": [
       "False"
      ]
     },
     "execution_count": 604,
     "metadata": {},
     "output_type": "execute_result"
    }
   ],
   "source": [
    "scores == scores_2"
   ]
  },
  {
   "cell_type": "code",
   "execution_count": null,
   "metadata": {},
   "outputs": [],
   "source": []
  }
 ],
 "metadata": {
  "kernelspec": {
   "display_name": "Python 3",
   "language": "python",
   "name": "python3"
  },
  "language_info": {
   "codemirror_mode": {
    "name": "ipython",
    "version": 3
   },
   "file_extension": ".py",
   "mimetype": "text/x-python",
   "name": "python",
   "nbconvert_exporter": "python",
   "pygments_lexer": "ipython3",
   "version": "3.6.7"
  }
 },
 "nbformat": 4,
 "nbformat_minor": 4
}
