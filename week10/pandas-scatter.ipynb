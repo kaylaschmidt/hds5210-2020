{
 "cells": [
  {
   "cell_type": "markdown",
   "metadata": {},
   "source": [
    "Use `%matplotlib notebook` to make plots interactive"
   ]
  },
  {
   "cell_type": "code",
   "execution_count": 1,
   "metadata": {},
   "outputs": [],
   "source": [
    "%matplotlib inline"
   ]
  },
  {
   "cell_type": "code",
   "execution_count": 2,
   "metadata": {},
   "outputs": [
    {
     "data": {
      "text/plain": [
       "(52, 22)"
      ]
     },
     "execution_count": 2,
     "metadata": {},
     "output_type": "execute_result"
    }
   ],
   "source": [
    "import pandas as pd\n",
    "data = pd.read_csv('/data/flu_2016_2017.csv', quotechar='\"')\n",
    "usa = data[(data['Country'] == 'United States of America') & \n",
    "           (data['Year'] == 2016)]\n",
    "usa.shape"
   ]
  },
  {
   "cell_type": "code",
   "execution_count": 3,
   "metadata": {},
   "outputs": [
    {
     "data": {
      "text/html": [
       "<div>\n",
       "<style scoped>\n",
       "    .dataframe tbody tr th:only-of-type {\n",
       "        vertical-align: middle;\n",
       "    }\n",
       "\n",
       "    .dataframe tbody tr th {\n",
       "        vertical-align: top;\n",
       "    }\n",
       "\n",
       "    .dataframe thead th {\n",
       "        text-align: right;\n",
       "    }\n",
       "</style>\n",
       "<table border=\"1\" class=\"dataframe\">\n",
       "  <thead>\n",
       "    <tr style=\"text-align: right;\">\n",
       "      <th></th>\n",
       "      <th>Country</th>\n",
       "      <th>WHOREGION</th>\n",
       "      <th>FLUREGION</th>\n",
       "      <th>Year</th>\n",
       "      <th>Week</th>\n",
       "      <th>SDATE</th>\n",
       "      <th>EDATE</th>\n",
       "      <th>SPEC_RECEIVED_NB</th>\n",
       "      <th>SPEC_PROCESSED_NB</th>\n",
       "      <th>AH1</th>\n",
       "      <th>...</th>\n",
       "      <th>AH5</th>\n",
       "      <th>ANOTSUBTYPED</th>\n",
       "      <th>INF_A</th>\n",
       "      <th>BYAMAGATA</th>\n",
       "      <th>BVICTORIA</th>\n",
       "      <th>BNOTDETERMINED</th>\n",
       "      <th>INF_B</th>\n",
       "      <th>ALL_INF</th>\n",
       "      <th>ALL_INF2</th>\n",
       "      <th>TITLE</th>\n",
       "    </tr>\n",
       "  </thead>\n",
       "  <tbody>\n",
       "    <tr>\n",
       "      <th>8295</th>\n",
       "      <td>United States of America</td>\n",
       "      <td>Region of the Americas of WHO</td>\n",
       "      <td>North America</td>\n",
       "      <td>2016</td>\n",
       "      <td>1</td>\n",
       "      <td>2016-01-04</td>\n",
       "      <td>2016-01-10</td>\n",
       "      <td>21578.0</td>\n",
       "      <td>21578.0</td>\n",
       "      <td>0.0</td>\n",
       "      <td>...</td>\n",
       "      <td>0.0</td>\n",
       "      <td>398.0</td>\n",
       "      <td>697</td>\n",
       "      <td>52.0</td>\n",
       "      <td>12.0</td>\n",
       "      <td>198.0</td>\n",
       "      <td>262</td>\n",
       "      <td>959</td>\n",
       "      <td>0.0</td>\n",
       "      <td>No Report</td>\n",
       "    </tr>\n",
       "    <tr>\n",
       "      <th>8296</th>\n",
       "      <td>United States of America</td>\n",
       "      <td>Region of the Americas of WHO</td>\n",
       "      <td>North America</td>\n",
       "      <td>2016</td>\n",
       "      <td>2</td>\n",
       "      <td>2016-01-11</td>\n",
       "      <td>2016-01-17</td>\n",
       "      <td>20415.0</td>\n",
       "      <td>20415.0</td>\n",
       "      <td>0.0</td>\n",
       "      <td>...</td>\n",
       "      <td>0.0</td>\n",
       "      <td>576.0</td>\n",
       "      <td>921</td>\n",
       "      <td>60.0</td>\n",
       "      <td>23.0</td>\n",
       "      <td>269.0</td>\n",
       "      <td>352</td>\n",
       "      <td>1273</td>\n",
       "      <td>0.0</td>\n",
       "      <td>No Report</td>\n",
       "    </tr>\n",
       "    <tr>\n",
       "      <th>8297</th>\n",
       "      <td>United States of America</td>\n",
       "      <td>Region of the Americas of WHO</td>\n",
       "      <td>North America</td>\n",
       "      <td>2016</td>\n",
       "      <td>3</td>\n",
       "      <td>2016-01-18</td>\n",
       "      <td>2016-01-24</td>\n",
       "      <td>20701.0</td>\n",
       "      <td>20701.0</td>\n",
       "      <td>0.0</td>\n",
       "      <td>...</td>\n",
       "      <td>0.0</td>\n",
       "      <td>729.0</td>\n",
       "      <td>1189</td>\n",
       "      <td>83.0</td>\n",
       "      <td>25.0</td>\n",
       "      <td>360.0</td>\n",
       "      <td>468</td>\n",
       "      <td>1657</td>\n",
       "      <td>0.0</td>\n",
       "      <td>No Report</td>\n",
       "    </tr>\n",
       "    <tr>\n",
       "      <th>8298</th>\n",
       "      <td>United States of America</td>\n",
       "      <td>Region of the Americas of WHO</td>\n",
       "      <td>North America</td>\n",
       "      <td>2016</td>\n",
       "      <td>4</td>\n",
       "      <td>2016-01-25</td>\n",
       "      <td>2016-01-31</td>\n",
       "      <td>23301.0</td>\n",
       "      <td>23301.0</td>\n",
       "      <td>0.0</td>\n",
       "      <td>...</td>\n",
       "      <td>0.0</td>\n",
       "      <td>1049.0</td>\n",
       "      <td>1734</td>\n",
       "      <td>104.0</td>\n",
       "      <td>28.0</td>\n",
       "      <td>508.0</td>\n",
       "      <td>640</td>\n",
       "      <td>2374</td>\n",
       "      <td>0.0</td>\n",
       "      <td>No Report</td>\n",
       "    </tr>\n",
       "    <tr>\n",
       "      <th>8299</th>\n",
       "      <td>United States of America</td>\n",
       "      <td>Region of the Americas of WHO</td>\n",
       "      <td>North America</td>\n",
       "      <td>2016</td>\n",
       "      <td>5</td>\n",
       "      <td>2016-02-01</td>\n",
       "      <td>2016-02-07</td>\n",
       "      <td>24925.0</td>\n",
       "      <td>24925.0</td>\n",
       "      <td>0.0</td>\n",
       "      <td>...</td>\n",
       "      <td>0.0</td>\n",
       "      <td>1585.0</td>\n",
       "      <td>2428</td>\n",
       "      <td>143.0</td>\n",
       "      <td>62.0</td>\n",
       "      <td>684.0</td>\n",
       "      <td>889</td>\n",
       "      <td>3317</td>\n",
       "      <td>0.0</td>\n",
       "      <td>No Report</td>\n",
       "    </tr>\n",
       "    <tr>\n",
       "      <th>8300</th>\n",
       "      <td>United States of America</td>\n",
       "      <td>Region of the Americas of WHO</td>\n",
       "      <td>North America</td>\n",
       "      <td>2016</td>\n",
       "      <td>6</td>\n",
       "      <td>2016-02-08</td>\n",
       "      <td>2016-02-14</td>\n",
       "      <td>28055.0</td>\n",
       "      <td>28055.0</td>\n",
       "      <td>0.0</td>\n",
       "      <td>...</td>\n",
       "      <td>0.0</td>\n",
       "      <td>2280.0</td>\n",
       "      <td>3407</td>\n",
       "      <td>206.0</td>\n",
       "      <td>71.0</td>\n",
       "      <td>1020.0</td>\n",
       "      <td>1297</td>\n",
       "      <td>4704</td>\n",
       "      <td>0.0</td>\n",
       "      <td>No Report</td>\n",
       "    </tr>\n",
       "    <tr>\n",
       "      <th>8301</th>\n",
       "      <td>United States of America</td>\n",
       "      <td>Region of the Americas of WHO</td>\n",
       "      <td>North America</td>\n",
       "      <td>2016</td>\n",
       "      <td>7</td>\n",
       "      <td>2016-02-15</td>\n",
       "      <td>2016-02-21</td>\n",
       "      <td>31036.0</td>\n",
       "      <td>31036.0</td>\n",
       "      <td>0.0</td>\n",
       "      <td>...</td>\n",
       "      <td>0.0</td>\n",
       "      <td>3151.0</td>\n",
       "      <td>4747</td>\n",
       "      <td>309.0</td>\n",
       "      <td>103.0</td>\n",
       "      <td>1271.0</td>\n",
       "      <td>1683</td>\n",
       "      <td>6430</td>\n",
       "      <td>0.0</td>\n",
       "      <td>No Report</td>\n",
       "    </tr>\n",
       "    <tr>\n",
       "      <th>8302</th>\n",
       "      <td>United States of America</td>\n",
       "      <td>Region of the Americas of WHO</td>\n",
       "      <td>North America</td>\n",
       "      <td>2016</td>\n",
       "      <td>8</td>\n",
       "      <td>2016-02-22</td>\n",
       "      <td>2016-02-28</td>\n",
       "      <td>35463.0</td>\n",
       "      <td>35463.0</td>\n",
       "      <td>0.0</td>\n",
       "      <td>...</td>\n",
       "      <td>0.0</td>\n",
       "      <td>4434.0</td>\n",
       "      <td>6337</td>\n",
       "      <td>383.0</td>\n",
       "      <td>156.0</td>\n",
       "      <td>1486.0</td>\n",
       "      <td>2025</td>\n",
       "      <td>8362</td>\n",
       "      <td>0.0</td>\n",
       "      <td>No Report</td>\n",
       "    </tr>\n",
       "    <tr>\n",
       "      <th>8303</th>\n",
       "      <td>United States of America</td>\n",
       "      <td>Region of the Americas of WHO</td>\n",
       "      <td>North America</td>\n",
       "      <td>2016</td>\n",
       "      <td>9</td>\n",
       "      <td>2016-02-29</td>\n",
       "      <td>2016-03-06</td>\n",
       "      <td>38488.0</td>\n",
       "      <td>38488.0</td>\n",
       "      <td>0.0</td>\n",
       "      <td>...</td>\n",
       "      <td>0.0</td>\n",
       "      <td>5554.0</td>\n",
       "      <td>7753</td>\n",
       "      <td>347.0</td>\n",
       "      <td>143.0</td>\n",
       "      <td>1836.0</td>\n",
       "      <td>2326</td>\n",
       "      <td>10079</td>\n",
       "      <td>0.0</td>\n",
       "      <td>No Report</td>\n",
       "    </tr>\n",
       "    <tr>\n",
       "      <th>8304</th>\n",
       "      <td>United States of America</td>\n",
       "      <td>Region of the Americas of WHO</td>\n",
       "      <td>North America</td>\n",
       "      <td>2016</td>\n",
       "      <td>10</td>\n",
       "      <td>2016-03-07</td>\n",
       "      <td>2016-03-13</td>\n",
       "      <td>41810.0</td>\n",
       "      <td>41810.0</td>\n",
       "      <td>0.0</td>\n",
       "      <td>...</td>\n",
       "      <td>0.0</td>\n",
       "      <td>6725.0</td>\n",
       "      <td>9211</td>\n",
       "      <td>333.0</td>\n",
       "      <td>162.0</td>\n",
       "      <td>2264.0</td>\n",
       "      <td>2759</td>\n",
       "      <td>11970</td>\n",
       "      <td>0.0</td>\n",
       "      <td>No Report</td>\n",
       "    </tr>\n",
       "  </tbody>\n",
       "</table>\n",
       "<p>10 rows × 22 columns</p>\n",
       "</div>"
      ],
      "text/plain": [
       "                       Country                      WHOREGION      FLUREGION  \\\n",
       "8295  United States of America  Region of the Americas of WHO  North America   \n",
       "8296  United States of America  Region of the Americas of WHO  North America   \n",
       "8297  United States of America  Region of the Americas of WHO  North America   \n",
       "8298  United States of America  Region of the Americas of WHO  North America   \n",
       "8299  United States of America  Region of the Americas of WHO  North America   \n",
       "8300  United States of America  Region of the Americas of WHO  North America   \n",
       "8301  United States of America  Region of the Americas of WHO  North America   \n",
       "8302  United States of America  Region of the Americas of WHO  North America   \n",
       "8303  United States of America  Region of the Americas of WHO  North America   \n",
       "8304  United States of America  Region of the Americas of WHO  North America   \n",
       "\n",
       "      Year  Week       SDATE       EDATE  SPEC_RECEIVED_NB  SPEC_PROCESSED_NB  \\\n",
       "8295  2016     1  2016-01-04  2016-01-10           21578.0            21578.0   \n",
       "8296  2016     2  2016-01-11  2016-01-17           20415.0            20415.0   \n",
       "8297  2016     3  2016-01-18  2016-01-24           20701.0            20701.0   \n",
       "8298  2016     4  2016-01-25  2016-01-31           23301.0            23301.0   \n",
       "8299  2016     5  2016-02-01  2016-02-07           24925.0            24925.0   \n",
       "8300  2016     6  2016-02-08  2016-02-14           28055.0            28055.0   \n",
       "8301  2016     7  2016-02-15  2016-02-21           31036.0            31036.0   \n",
       "8302  2016     8  2016-02-22  2016-02-28           35463.0            35463.0   \n",
       "8303  2016     9  2016-02-29  2016-03-06           38488.0            38488.0   \n",
       "8304  2016    10  2016-03-07  2016-03-13           41810.0            41810.0   \n",
       "\n",
       "      AH1  ...  AH5  ANOTSUBTYPED  INF_A  BYAMAGATA  BVICTORIA  \\\n",
       "8295  0.0  ...  0.0         398.0    697       52.0       12.0   \n",
       "8296  0.0  ...  0.0         576.0    921       60.0       23.0   \n",
       "8297  0.0  ...  0.0         729.0   1189       83.0       25.0   \n",
       "8298  0.0  ...  0.0        1049.0   1734      104.0       28.0   \n",
       "8299  0.0  ...  0.0        1585.0   2428      143.0       62.0   \n",
       "8300  0.0  ...  0.0        2280.0   3407      206.0       71.0   \n",
       "8301  0.0  ...  0.0        3151.0   4747      309.0      103.0   \n",
       "8302  0.0  ...  0.0        4434.0   6337      383.0      156.0   \n",
       "8303  0.0  ...  0.0        5554.0   7753      347.0      143.0   \n",
       "8304  0.0  ...  0.0        6725.0   9211      333.0      162.0   \n",
       "\n",
       "      BNOTDETERMINED  INF_B  ALL_INF  ALL_INF2      TITLE  \n",
       "8295           198.0    262      959       0.0  No Report  \n",
       "8296           269.0    352     1273       0.0  No Report  \n",
       "8297           360.0    468     1657       0.0  No Report  \n",
       "8298           508.0    640     2374       0.0  No Report  \n",
       "8299           684.0    889     3317       0.0  No Report  \n",
       "8300          1020.0   1297     4704       0.0  No Report  \n",
       "8301          1271.0   1683     6430       0.0  No Report  \n",
       "8302          1486.0   2025     8362       0.0  No Report  \n",
       "8303          1836.0   2326    10079       0.0  No Report  \n",
       "8304          2264.0   2759    11970       0.0  No Report  \n",
       "\n",
       "[10 rows x 22 columns]"
      ]
     },
     "execution_count": 3,
     "metadata": {},
     "output_type": "execute_result"
    }
   ],
   "source": [
    "usa[0:10]"
   ]
  },
  {
   "cell_type": "markdown",
   "metadata": {},
   "source": [
    "---\n",
    "\n",
    "Scatter Plot\n",
    "---\n",
    "\n",
    "Use a scatter plot to see if there are some possible relationship"
   ]
  },
  {
   "cell_type": "code",
   "execution_count": 5,
   "metadata": {},
   "outputs": [
    {
     "data": {
      "text/plain": [
       "Text(0.5, 0, 'Specimens Received')"
      ]
     },
     "execution_count": 5,
     "metadata": {},
     "output_type": "execute_result"
    },
    {
     "data": {
      "image/png": "[encoded data removed]",
      "text/plain": [
       "<Figure size 432x288 with 1 Axes>"
      ]
     },
     "metadata": {
      "needs_background": "light"
     },
     "output_type": "display_data"
    }
   ],
   "source": [
    "axes = usa.plot.scatter(x='SPEC_RECEIVED_NB', y='INF_A', color='Red', label='Influeza A')\n",
    "axes.set_ylabel('Positive Cases')\n",
    "axes.set_xlabel('Specimens Received')"
   ]
  },
  {
   "cell_type": "code",
   "execution_count": 6,
   "metadata": {},
   "outputs": [
    {
     "data": {
      "text/plain": [
       "Text(0.5, 0, 'Specimens Received')"
      ]
     },
     "execution_count": 6,
     "metadata": {},
     "output_type": "execute_result"
    },
    {
     "data": {
      "image/png": "[encoded data removed]",
      "text/plain": [
       "<Figure size 432x288 with 1 Axes>"
      ]
     },
     "metadata": {
      "needs_background": "light"
     },
     "output_type": "display_data"
    }
   ],
   "source": [
    "axes = usa.plot.scatter(x='SPEC_RECEIVED_NB', y='INF_B', color='Blue', label='Influeza B')\n",
    "axes.set_ylabel('Positive Cases')\n",
    "axes.set_xlabel('Specimens Received')"
   ]
  },
  {
   "cell_type": "code",
   "execution_count": 7,
   "metadata": {},
   "outputs": [
    {
     "data": {
      "text/plain": [
       "Text(0.5, 0, 'Specimens Received')"
      ]
     },
     "execution_count": 7,
     "metadata": {},
     "output_type": "execute_result"
    },
    {
     "data": {
      "image/png": "[encoded data removed]",
      "text/plain": [
       "<Figure size 432x288 with 1 Axes>"
      ]
     },
     "metadata": {
      "needs_background": "light"
     },
     "output_type": "display_data"
    }
   ],
   "source": [
    "axes = usa.plot.scatter(x='SPEC_RECEIVED_NB', y='INF_A', color='Red', label='Influeza A')\n",
    "axes = usa.plot.scatter(x='SPEC_RECEIVED_NB', y='INF_B', color='Blue', label='Influenza B', ax=axes)\n",
    "axes.set_ylabel('Positive Cases')\n",
    "axes.set_xlabel('Specimens Received')"
   ]
  },
  {
   "cell_type": "code",
   "execution_count": null,
   "metadata": {},
   "outputs": [],
   "source": []
  },
  {
   "cell_type": "code",
   "execution_count": 8,
   "metadata": {},
   "outputs": [
    {
     "data": {
      "text/plain": [
       "Text(0.5, 0, 'Specimens Received')"
      ]
     },
     "execution_count": 8,
     "metadata": {},
     "output_type": "execute_result"
    },
    {
     "data": {
      "image/png": "[encoded data removed]",
      "text/plain": [
       "<Figure size 432x288 with 1 Axes>"
      ]
     },
     "metadata": {
      "needs_background": "light"
     },
     "output_type": "display_data"
    }
   ],
   "source": [
    "import seaborn as sns\n",
    "\n",
    "ax = sns.regplot(data=usa, x='SPEC_RECEIVED_NB', y='INF_A', order=2, label='Flu A')\n",
    "sns.regplot(data=usa, x='SPEC_RECEIVED_NB', y='INF_B', label='Flu B', ax=ax)\n",
    "ax.legend()\n",
    "ax.set_ylabel('Positive Cases')\n",
    "ax.set_xlabel('Specimens Received')"
   ]
  },
  {
   "cell_type": "code",
   "execution_count": 9,
   "metadata": {},
   "outputs": [
    {
     "data": {
      "image/png": "[encoded data removed]",
      "text/plain": [
       "<Figure size 432x432 with 3 Axes>"
      ]
     },
     "metadata": {
      "needs_background": "light"
     },
     "output_type": "display_data"
    }
   ],
   "source": [
    "import seaborn as sns\n",
    "ax = sns.jointplot(data=usa, x='SPEC_RECEIVED_NB', y='INF_B')\n"
   ]
  },
  {
   "cell_type": "markdown",
   "metadata": {},
   "source": [
    "---\n",
    "\n",
    "See if there are always a similar ratio of type A to type B cases of influenza"
   ]
  },
  {
   "cell_type": "code",
   "execution_count": 10,
   "metadata": {},
   "outputs": [
    {
     "data": {
      "image/png": "[encoded data removed]",
      "text/plain": [
       "<Figure size 432x288 with 1 Axes>"
      ]
     },
     "metadata": {
      "needs_background": "light"
     },
     "output_type": "display_data"
    }
   ],
   "source": [
    "ax = usa.plot.scatter(x='INF_A', y='INF_B')"
   ]
  },
  {
   "cell_type": "code",
   "execution_count": null,
   "metadata": {},
   "outputs": [],
   "source": []
  }
 ],
 "metadata": {
  "kernelspec": {
   "display_name": "Python 3",
   "language": "python",
   "name": "python3"
  },
  "language_info": {
   "codemirror_mode": {
    "name": "ipython",
    "version": 3
   },
   "file_extension": ".py",
   "mimetype": "text/x-python",
   "name": "python",
   "nbconvert_exporter": "python",
   "pygments_lexer": "ipython3",
   "version": "3.6.7"
  }
 },
 "nbformat": 4,
 "nbformat_minor": 2
}
