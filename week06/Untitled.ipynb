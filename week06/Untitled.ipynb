{
 "cells": [
  {
   "cell_type": "code",
   "execution_count": 4,
   "metadata": {},
   "outputs": [
    {
     "name": "stdout",
     "output_type": "stream",
     "text": [
      "<_io.TextIOWrapper name='/data/allergies.json' mode='r' encoding='UTF-8'>\n"
     ]
    }
   ],
   "source": [
    "import json\n",
    "\n",
    "\n",
    "with open('/data/allergies.json') as f:\n",
    "        data = json.load(f)\n",
    "        print(f)"
   ]
  },
  {
   "cell_type": "code",
   "execution_count": 3,
   "metadata": {},
   "outputs": [
    {
     "data": {
      "text/plain": [
       "<_io.TextIOWrapper name='/data/allergies.json' mode='r' encoding='UTF-8'>"
      ]
     },
     "execution_count": 3,
     "metadata": {},
     "output_type": "execute_result"
    }
   ],
   "source": []
  },
  {
   "cell_type": "code",
   "execution_count": null,
   "metadata": {},
   "outputs": [],
   "source": []
  },
  {
   "cell_type": "code",
   "execution_count": null,
   "metadata": {},
   "outputs": [],
   "source": [
    "import json \n",
    "\n",
    "with open('/data/allergies.json') as f:\n",
    "    entry = json.load(f)\n",
    "    data = entry.get('entry')\n",
    "    allergy = []\n",
    "    for entry in data:\n",
    "        resource = entry.get('resource')\n",
    "        patient = resource.get('patient').get('display')\n",
    "        substance = resource.get('substance').get('text')\n",
    "        react = resource.get('reaction')[0]\n",
    "        reaction = react.get('manifestation')[0]\n",
    "        reaction = reaction.get('text')\n",
    "        allergy.append(patient)\n",
    "        allergy.append(substance)\n",
    "        allergy.append(reaction)\n",
    "    for final in allergy:\n",
    "        allergy.append([patient[0], substance[1], reaction[2]])\n",
    "\n",
    "    print(allergy)"
   ]
  },
  {
   "cell_type": "code",
   "execution_count": null,
   "metadata": {},
   "outputs": [],
   "source": []
  },
  {
   "cell_type": "code",
   "execution_count": null,
   "metadata": {},
   "outputs": [],
   "source": []
  },
  {
   "cell_type": "code",
   "execution_count": null,
   "metadata": {},
   "outputs": [],
   "source": []
  }
 ],
 "metadata": {
  "kernelspec": {
   "display_name": "Python 3",
   "language": "python",
   "name": "python3"
  },
  "language_info": {
   "codemirror_mode": {
    "name": "ipython",
    "version": 3
   },
   "file_extension": ".py",
   "mimetype": "text/x-python",
   "name": "python",
   "nbconvert_exporter": "python",
   "pygments_lexer": "ipython3",
   "version": "3.6.7"
  }
 },
 "nbformat": 4,
 "nbformat_minor": 4
}
